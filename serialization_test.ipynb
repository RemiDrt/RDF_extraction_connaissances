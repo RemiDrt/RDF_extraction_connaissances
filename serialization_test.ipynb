{
 "cells": [
  {
   "cell_type": "code",
   "execution_count": 2,
   "metadata": {},
   "outputs": [
    {
     "name": "stdout",
     "output_type": "stream",
     "text": [
      "{'Waris RADJI': 'http://www.semanticweb.org/acemap#002', 'Remi DURET': 'http://www.semanticweb.org/acemap#001', 'Colin ESPINAS': 'http://www.semanticweb.org/acemap#003'}\n",
      "{'Les algorithmes de data mining': 'http://www.semanticweb.org/acemap#020', 'Optisimation des applications de bureau': 'http://www.semanticweb.org/acemap#010', 'Faire un framework complet': 'http://www.semanticweb.org/acemap#030'}\n",
      "{'Genie Logiciel': 'http://www.semanticweb.org/acemap#100', 'Data Science': 'http://www.semanticweb.org/acemap#200'}\n"
     ]
    }
   ],
   "source": [
    "from Extractors import *\n",
    "dico = InverserDicoSimple(\"JSON_struct/IDToAuthor.json\")\n",
    "print(dico)\n",
    "ExportToJSON(dico, \"JSON_struct/AuthorToID.json\")\n",
    "dico = InverserDicoSimple(\"JSON_struct/IDToPaper.json\")\n",
    "print(dico)\n",
    "ExportToJSON(dico, \"JSON_struct/PaperToID.json\")\n",
    "dico = InverserDicoSimple(\"JSON_struct/IDToField.json\")\n",
    "print(dico)\n",
    "ExportToJSON(dico, \"JSON_struct/FieldToID.json\")"
   ]
  },
  {
   "cell_type": "code",
   "execution_count": null,
   "metadata": {},
   "outputs": [],
   "source": []
  },
  {
   "cell_type": "code",
   "execution_count": null,
   "metadata": {},
   "outputs": [],
   "source": []
  },
  {
   "cell_type": "code",
   "execution_count": null,
   "metadata": {},
   "outputs": [],
   "source": []
  },
  {
   "cell_type": "code",
   "execution_count": null,
   "metadata": {},
   "outputs": [],
   "source": []
  },
  {
   "cell_type": "code",
   "execution_count": null,
   "metadata": {},
   "outputs": [],
   "source": []
  }
 ],
 "metadata": {
  "kernelspec": {
   "display_name": "Python 3",
   "language": "python",
   "name": "python3"
  },
  "language_info": {
   "codemirror_mode": {
    "name": "ipython",
    "version": 3
   },
   "file_extension": ".py",
   "mimetype": "text/x-python",
   "name": "python",
   "nbconvert_exporter": "python",
   "pygments_lexer": "ipython3",
   "version": "3.7.6"
  }
 },
 "nbformat": 4,
 "nbformat_minor": 4
}
