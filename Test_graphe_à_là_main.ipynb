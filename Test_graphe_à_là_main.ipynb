{
 "cells": [
  {
   "cell_type": "code",
   "execution_count": 1,
   "metadata": {},
   "outputs": [
    {
     "name": "stdout",
     "output_type": "stream",
     "text": [
      "(rdflib.term.URIRef('http://www.semanticweb.org/acemap#paper_cs_relevant'), rdflib.term.URIRef('http://www.w3.org/1999/02/22-rdf-syntax-ns#type'), rdflib.term.URIRef('http://www.w3.org/2002/07/owl#ObjectProperty'))\n",
      "(rdflib.term.URIRef('http://www.semanticweb.org/acemap'), rdflib.term.URIRef('http://www.w3.org/1999/02/22-rdf-syntax-ns#type'), rdflib.term.URIRef('http://www.w3.org/2002/07/owl#Ontology'))\n",
      "(rdflib.term.URIRef('http://www.semanticweb.org/acemap#Venue'), rdflib.term.URIRef('http://www.w3.org/1999/02/22-rdf-syntax-ns#type'), rdflib.term.URIRef('http://www.w3.org/2002/07/owl#Class'))\n",
      "(rdflib.term.URIRef('http://www.semanticweb.org/acemap#7CE9EBAC'), rdflib.term.URIRef('http://www.semanticweb.org/acemap#paper_is_written_by'), rdflib.term.URIRef('http://www.semanticweb.org/acemap#791D05BF'))\n",
      "(rdflib.term.BNode('ub1bL394C59'), rdflib.term.URIRef('http://www.w3.org/2002/07/owl#someValuesFrom'), rdflib.term.URIRef('http://www.w3.org/2001/XMLSchema#int'))\n",
      "(rdflib.term.URIRef('http://www.semanticweb.org/acemap#author_name'), rdflib.term.URIRef('http://www.w3.org/2000/01/rdf-schema#range'), rdflib.term.BNode('ub1bL93C60'))\n",
      "(rdflib.term.URIRef('http://www.semanticweb.org/acemap#0304C748'), rdflib.term.URIRef('http://www.semanticweb.org/acemap#field_papers_num'), rdflib.term.Literal('330252', datatype=rdflib.term.URIRef('http://www.w3.org/2001/XMLSchema#integer')))\n",
      "(rdflib.term.URIRef('http://www.semanticweb.org/acemap#insititute_name'), rdflib.term.URIRef('http://www.w3.org/2000/01/rdf-schema#range'), rdflib.term.BNode('ub1bL238C77'))\n",
      "(rdflib.term.BNode('ub1bL309C69'), rdflib.term.URIRef('http://www.w3.org/1999/02/22-rdf-syntax-ns#type'), rdflib.term.URIRef('http://www.w3.org/2002/07/owl#Restriction'))\n",
      "(rdflib.term.URIRef('http://www.semanticweb.org/acemap#paper_sci_citation'), rdflib.term.URIRef('http://www.w3.org/2000/01/rdf-schema#domain'), rdflib.term.URIRef('http://www.semanticweb.org/acemap#Paper'))\n",
      "(rdflib.term.URIRef('http://www.semanticweb.org/acemap#journal_name'), rdflib.term.URIRef('http://www.w3.org/2000/01/rdf-schema#range'), rdflib.term.BNode('ub1bL216C71'))\n",
      "(rdflib.term.URIRef('http://www.semanticweb.org/acemap#affiliation_name'), rdflib.term.URIRef('http://www.w3.org/1999/02/22-rdf-syntax-ns#type'), rdflib.term.URIRef('http://www.w3.org/2002/07/owl#ObjectProperty'))\n",
      "(rdflib.term.BNode('ub1bL261C63'), rdflib.term.URIRef('http://www.w3.org/2002/07/owl#someValuesFrom'), rdflib.term.URIRef('http://www.w3.org/2001/XMLSchema#string'))\n",
      "(rdflib.term.BNode('ub1bL118C68'), rdflib.term.URIRef('http://www.w3.org/2002/07/owl#someValuesFrom'), rdflib.term.URIRef('http://www.w3.org/2001/XMLSchema#int'))\n",
      "(rdflib.term.URIRef('http://www.semanticweb.org/acemap#paper_is_written_by'), rdflib.term.URIRef('http://www.w3.org/2000/01/rdf-schema#range'), rdflib.term.URIRef('http://www.semanticweb.org/acemap#Author'))\n",
      "(rdflib.term.BNode('ub1bL335C66'), rdflib.term.URIRef('http://www.w3.org/2002/07/owl#onProperty'), rdflib.term.URIRef('http://www.w3.org/2002/07/owl#topDataProperty'))\n",
      "(rdflib.term.URIRef('http://www.semanticweb.org/acemap#218FC062'), rdflib.term.URIRef('http://www.semanticweb.org/acemap#author_name'), rdflib.term.Literal('geoffrey e hinton', datatype=rdflib.term.URIRef('http://www.w3.org/2001/XMLSchema#string')))\n",
      "(rdflib.term.URIRef('http://www.semanticweb.org/acemap#218FC062'), rdflib.term.URIRef('http://www.semanticweb.org/acemap#author_number_of_paper'), rdflib.term.Literal('388', datatype=rdflib.term.URIRef('http://www.w3.org/2001/XMLSchema#integer')))\n",
      "(rdflib.term.URIRef('http://www.semanticweb.org/acemap#affiliation_name'), rdflib.term.URIRef('http://www.w3.org/2000/01/rdf-schema#domain'), rdflib.term.URIRef('http://www.semanticweb.org/acemap#Affiliation'))\n",
      "(rdflib.term.BNode('ub1bL394C59'), rdflib.term.URIRef('http://www.w3.org/1999/02/22-rdf-syntax-ns#type'), rdflib.term.URIRef('http://www.w3.org/2002/07/owl#Restriction'))\n",
      "(rdflib.term.BNode('ub1bL170C59'), rdflib.term.URIRef('http://www.w3.org/2002/07/owl#someValuesFrom'), rdflib.term.URIRef('http://www.w3.org/2001/XMLSchema#int'))\n",
      "(rdflib.term.URIRef('http://www.semanticweb.org/acemap#paper_cit_paper'), rdflib.term.URIRef('http://www.w3.org/2000/01/rdf-schema#range'), rdflib.term.URIRef('http://www.semanticweb.org/acemap#Paper'))\n",
      "(rdflib.term.URIRef('http://www.semanticweb.org/acemap#qs50'), rdflib.term.URIRef('http://www.semanticweb.org/acemap#affiliation_name'), rdflib.term.Literal('qs50', datatype=rdflib.term.URIRef('http://www.w3.org/2001/XMLSchema#string')))\n",
      "(rdflib.term.BNode('ub1bL193C59'), rdflib.term.URIRef('http://www.w3.org/2002/07/owl#someValuesFrom'), rdflib.term.URIRef('http://www.w3.org/2001/XMLSchema#string'))\n",
      "(rdflib.term.URIRef('http://www.semanticweb.org/acemap#07179FAA'), rdflib.term.URIRef('http://www.w3.org/1999/02/22-rdf-syntax-ns#type'), rdflib.term.URIRef('http://www.semanticweb.org/acemap#Journal'))\n",
      "(rdflib.term.URIRef('http://www.semanticweb.org/acemap#paper_citation_count'), rdflib.term.URIRef('http://www.w3.org/2000/01/rdf-schema#range'), rdflib.term.BNode('ub1bL309C69'))\n",
      "(rdflib.term.URIRef('http://www.semanticweb.org/acemap#field_level'), rdflib.term.URIRef('http://www.w3.org/2000/01/rdf-schema#domain'), rdflib.term.URIRef('http://www.semanticweb.org/acemap#Field'))\n",
      "(rdflib.term.URIRef('http://www.semanticweb.org/acemap#Author'), rdflib.term.URIRef('http://www.w3.org/1999/02/22-rdf-syntax-ns#type'), rdflib.term.URIRef('http://www.w3.org/2002/07/owl#Class'))\n",
      "(rdflib.term.URIRef('http://www.semanticweb.org/acemap#0304C748'), rdflib.term.URIRef('http://www.semanticweb.org/acemap#field_is_part_of'), rdflib.term.URIRef('http://www.semanticweb.org/acemap#0724DFBA'))\n",
      "(rdflib.term.BNode('ub1bL371C67'), rdflib.term.URIRef('http://www.w3.org/2002/07/owl#someValuesFrom'), rdflib.term.URIRef('http://www.w3.org/2001/XMLSchema#date'))\n",
      "(rdflib.term.BNode('ub1bL52C75'), rdflib.term.URIRef('http://www.w3.org/2002/07/owl#onProperty'), rdflib.term.URIRef('http://www.w3.org/2002/07/owl#topDataProperty'))\n",
      "(rdflib.term.BNode('ub1bL170C59'), rdflib.term.URIRef('http://www.w3.org/1999/02/22-rdf-syntax-ns#type'), rdflib.term.URIRef('http://www.w3.org/2002/07/owl#Restriction'))\n",
      "(rdflib.term.URIRef('http://www.semanticweb.org/acemap#conference_full_name'), rdflib.term.URIRef('http://www.w3.org/1999/02/22-rdf-syntax-ns#type'), rdflib.term.URIRef('http://www.w3.org/2002/07/owl#ObjectProperty'))\n",
      "(rdflib.term.BNode('ub1bL205C71'), rdflib.term.URIRef('http://www.w3.org/2002/07/owl#someValuesFrom'), rdflib.term.URIRef('http://www.w3.org/2001/XMLSchema#string'))\n",
      "(rdflib.term.BNode('ub1bL39C60'), rdflib.term.URIRef('http://www.w3.org/2002/07/owl#onProperty'), rdflib.term.URIRef('http://www.w3.org/2002/07/owl#topDataProperty'))\n",
      "(rdflib.term.URIRef('http://www.semanticweb.org/acemap#field_reference_count'), rdflib.term.URIRef('http://www.w3.org/2000/01/rdf-schema#domain'), rdflib.term.URIRef('http://www.semanticweb.org/acemap#Field'))\n",
      "(rdflib.term.URIRef('http://www.semanticweb.org/acemap#conference_short_name'), rdflib.term.URIRef('http://www.w3.org/2000/01/rdf-schema#domain'), rdflib.term.URIRef('http://www.semanticweb.org/acemap#Conference'))\n",
      "(rdflib.term.URIRef('http://www.semanticweb.org/acemap#journal_name'), rdflib.term.URIRef('http://www.w3.org/2000/01/rdf-schema#domain'), rdflib.term.URIRef('http://www.semanticweb.org/acemap#Journal'))\n",
      "(rdflib.term.URIRef('http://www.semanticweb.org/acemap#author_number_of_paper'), rdflib.term.URIRef('http://www.w3.org/2000/01/rdf-schema#domain'), rdflib.term.URIRef('http://www.semanticweb.org/acemap#Author'))\n",
      "(rdflib.term.URIRef('http://www.semanticweb.org/acemap#author_sci_citation'), rdflib.term.URIRef('http://www.w3.org/2000/01/rdf-schema#domain'), rdflib.term.URIRef('http://www.semanticweb.org/acemap#Author'))\n",
      "(rdflib.term.URIRef('http://www.semanticweb.org/acemap#218FC062'), rdflib.term.URIRef('http://www.semanticweb.org/acemap#author_citation_count'), rdflib.term.Literal('32891', datatype=rdflib.term.URIRef('http://www.w3.org/2001/XMLSchema#integer')))\n",
      "(rdflib.term.BNode('ub1bL149C59'), rdflib.term.URIRef('http://www.w3.org/2002/07/owl#onProperty'), rdflib.term.URIRef('http://www.w3.org/2002/07/owl#topDataProperty'))\n",
      "(rdflib.term.URIRef('http://www.semanticweb.org/acemap#is_part_of_affiliation'), rdflib.term.URIRef('http://www.w3.org/1999/02/22-rdf-syntax-ns#type'), rdflib.term.URIRef('http://www.w3.org/2002/07/owl#ObjectProperty'))\n",
      "(rdflib.term.URIRef('http://www.semanticweb.org/acemap#7CE9EBAC'), rdflib.term.URIRef('http://www.semanticweb.org/acemap#paper_is_written_by'), rdflib.term.URIRef('http://www.semanticweb.org/acemap#218FC062'))\n",
      "(rdflib.term.URIRef('http://www.semanticweb.org/acemap#094D2874'), rdflib.term.URIRef('http://www.semanticweb.org/acemap#conference_full_name'), rdflib.term.Literal('KDD 2015:21th ACM SIGKDD Conference or Knowledge Discovery and Data Mining', datatype=rdflib.term.URIRef('http://www.w3.org/2001/XMLSchema#string')))\n",
      "(rdflib.term.URIRef('http://www.semanticweb.org/acemap#7CE9EBAC'), rdflib.term.URIRef('http://www.semanticweb.org/acemap#paper_is_in_field'), rdflib.term.URIRef('http://www.semanticweb.org/acemap#0304C748'))\n",
      "(rdflib.term.URIRef('http://www.semanticweb.org/acemap#0304C748'), rdflib.term.URIRef('http://www.semanticweb.org/acemap#field_reference_count'), rdflib.term.Literal('1713867', datatype=rdflib.term.URIRef('http://www.w3.org/2001/XMLSchema#integer')))\n",
      "(rdflib.term.URIRef('http://www.semanticweb.org/acemap#field_is_part_of'), rdflib.term.URIRef('http://www.w3.org/2000/01/rdf-schema#domain'), rdflib.term.URIRef('http://www.semanticweb.org/acemap#Field'))\n",
      "(rdflib.term.URIRef('http://www.semanticweb.org/acemap#paper_title'), rdflib.term.URIRef('http://www.w3.org/2000/01/rdf-schema#domain'), rdflib.term.URIRef('http://www.semanticweb.org/acemap#Paper'))\n",
      "(rdflib.term.URIRef('http://www.w3.org/2001/XMLSchema#date'), rdflib.term.URIRef('http://www.w3.org/1999/02/22-rdf-syntax-ns#type'), rdflib.term.URIRef('http://www.w3.org/2000/01/rdf-schema#Datatype'))\n",
      "(rdflib.term.URIRef('http://www.semanticweb.org/acemap#paper_title'), rdflib.term.URIRef('http://www.w3.org/2000/01/rdf-schema#range'), rdflib.term.BNode('ub1bL39C60'))\n",
      "(rdflib.term.URIRef('http://www.semanticweb.org/acemap#7CE9EBAC'), rdflib.term.URIRef('http://www.semanticweb.org/acemap#paper_rank'), rdflib.term.Literal('18165', datatype=rdflib.term.URIRef('http://www.w3.org/2001/XMLSchema#integer')))\n",
      "(rdflib.term.BNode('ub1bL78C70'), rdflib.term.URIRef('http://www.w3.org/2002/07/owl#onProperty'), rdflib.term.URIRef('http://www.w3.org/2002/07/owl#topDataProperty'))\n",
      "(rdflib.term.BNode('ub1bL309C69'), rdflib.term.URIRef('http://www.w3.org/2002/07/owl#onProperty'), rdflib.term.URIRef('http://www.w3.org/2002/07/owl#topDataProperty'))\n",
      "(rdflib.term.URIRef('http://www.semanticweb.org/acemap#author_is_in_field'), rdflib.term.URIRef('http://www.w3.org/2000/01/rdf-schema#domain'), rdflib.term.URIRef('http://www.semanticweb.org/acemap#Author'))\n",
      "(rdflib.term.BNode('ub1bL159C59'), rdflib.term.URIRef('http://www.w3.org/2002/07/owl#onProperty'), rdflib.term.URIRef('http://www.w3.org/2002/07/owl#topDataProperty'))\n",
      "(rdflib.term.URIRef('http://www.semanticweb.org/acemap#paper_cs_relevant'), rdflib.term.URIRef('http://www.w3.org/2000/01/rdf-schema#domain'), rdflib.term.URIRef('http://www.semanticweb.org/acemap#Paper'))\n",
      "(rdflib.term.URIRef('http://www.semanticweb.org/acemap#author_name'), rdflib.term.URIRef('http://www.w3.org/1999/02/22-rdf-syntax-ns#type'), rdflib.term.URIRef('http://www.w3.org/2002/07/owl#ObjectProperty'))\n",
      "(rdflib.term.URIRef('http://www.semanticweb.org/acemap#conference_full_name'), rdflib.term.URIRef('http://www.w3.org/2000/01/rdf-schema#range'), rdflib.term.BNode('ub1bL205C71'))\n",
      "(rdflib.term.URIRef('http://www.semanticweb.org/acemap#institute_name'), rdflib.term.URIRef('http://www.w3.org/2000/01/rdf-schema#domain'), rdflib.term.URIRef('http://www.semanticweb.org/acemap#Institute'))\n",
      "(rdflib.term.URIRef('http://www.semanticweb.org/acemap#paper_publish_date'), rdflib.term.URIRef('http://www.w3.org/2000/01/rdf-schema#domain'), rdflib.term.URIRef('http://www.semanticweb.org/acemap#Paper'))\n",
      "(rdflib.term.URIRef('http://www.semanticweb.org/acemap#paper_future_rank'), rdflib.term.URIRef('http://www.w3.org/2000/01/rdf-schema#range'), rdflib.term.BNode('ub1bL335C66'))\n",
      "(rdflib.term.URIRef('http://www.semanticweb.org/acemap#paper_publish_on'), rdflib.term.URIRef('http://www.w3.org/2000/01/rdf-schema#range'), rdflib.term.URIRef('http://www.semanticweb.org/acemap#Venue'))\n",
      "(rdflib.term.URIRef('http://www.semanticweb.org/acemap#7BFA9BE5'), rdflib.term.URIRef('http://www.semanticweb.org/acemap#paper_publish_on'), rdflib.term.URIRef('http://www.semanticweb.org/acemap#07179FAA'))\n",
      "(rdflib.term.URIRef('http://www.semanticweb.org/acemap#field_name'), rdflib.term.URIRef('http://www.w3.org/1999/02/22-rdf-syntax-ns#type'), rdflib.term.URIRef('http://www.w3.org/2002/07/owl#ObjectProperty'))\n",
      "(rdflib.term.URIRef('http://www.semanticweb.org/acemap#insititute_name'), rdflib.term.URIRef('http://www.w3.org/2000/01/rdf-schema#domain'), rdflib.term.URIRef('http://www.semanticweb.org/acemap#Institute'))\n",
      "(rdflib.term.URIRef('http://www.semanticweb.org/acemap#qs50'), rdflib.term.URIRef('http://www.w3.org/1999/02/22-rdf-syntax-ns#type'), rdflib.term.URIRef('http://www.semanticweb.org/acemap#Affiliation'))\n",
      "(rdflib.term.BNode('ub1bL205C71'), rdflib.term.URIRef('http://www.w3.org/1999/02/22-rdf-syntax-ns#type'), rdflib.term.URIRef('http://www.w3.org/2002/07/owl#Restriction'))\n",
      "(rdflib.term.URIRef('http://www.semanticweb.org/acemap#field_reference_count'), rdflib.term.URIRef('http://www.w3.org/2000/01/rdf-schema#range'), rdflib.term.BNode('ub1bL181C59'))\n",
      "(rdflib.term.URIRef('http://www.semanticweb.org/acemap#7CE9EBAC'), rdflib.term.URIRef('http://www.semanticweb.org/acemap#paper_cit_paper'), rdflib.term.URIRef('http://www.semanticweb.org/acemap#7BFA9BE5'))\n",
      "(rdflib.term.URIRef('http://www.semanticweb.org/acemap#author_is_in_field'), rdflib.term.URIRef('http://www.w3.org/1999/02/22-rdf-syntax-ns#type'), rdflib.term.URIRef('http://www.w3.org/2002/07/owl#ObjectProperty'))\n",
      "(rdflib.term.URIRef('http://www.semanticweb.org/acemap#journal_name'), rdflib.term.URIRef('http://www.w3.org/2000/01/rdf-schema#range'), rdflib.term.BNode('ub1bL285C61'))\n",
      "(rdflib.term.BNode('ub1bL238C77'), rdflib.term.URIRef('http://www.w3.org/2002/07/owl#someValuesFrom'), rdflib.term.URIRef('http://www.w3.org/2001/XMLSchema#string'))\n",
      "(rdflib.term.BNode('ub1bL159C59'), rdflib.term.URIRef('http://www.w3.org/2002/07/owl#someValuesFrom'), rdflib.term.URIRef('http://www.w3.org/2001/XMLSchema#string'))\n",
      "(rdflib.term.BNode('ub1bL322C66'), rdflib.term.URIRef('http://www.w3.org/2002/07/owl#someValuesFrom'), rdflib.term.URIRef('http://www.w3.org/2001/XMLSchema#boolean'))\n",
      "(rdflib.term.BNode('ub1bL118C68'), rdflib.term.URIRef('http://www.w3.org/1999/02/22-rdf-syntax-ns#type'), rdflib.term.URIRef('http://www.w3.org/2002/07/owl#Restriction'))\n",
      "(rdflib.term.URIRef('http://www.semanticweb.org/acemap#paper_keyword'), rdflib.term.URIRef('http://www.w3.org/1999/02/22-rdf-syntax-ns#type'), rdflib.term.URIRef('http://www.w3.org/2002/07/owl#ObjectProperty'))\n",
      "(rdflib.term.URIRef('http://www.semanticweb.org/acemap#paper_sci_citation'), rdflib.term.URIRef('http://www.w3.org/2000/01/rdf-schema#range'), rdflib.term.BNode('ub1bL409C67'))\n",
      "(rdflib.term.URIRef('http://www.semanticweb.org/acemap#7CE9EBAC'), rdflib.term.URIRef('http://www.semanticweb.org/acemap#paper_publish_date'), rdflib.term.Literal('2014-01-01', datatype=rdflib.term.URIRef('http://www.w3.org/2001/XMLSchema#date')))\n",
      "(rdflib.term.BNode('ub1bL335C66'), rdflib.term.URIRef('http://www.w3.org/2002/07/owl#someValuesFrom'), rdflib.term.URIRef('http://www.w3.org/2001/XMLSchema#int'))\n",
      "(rdflib.term.BNode('ub1bL227C71'), rdflib.term.URIRef('http://www.w3.org/2002/07/owl#someValuesFrom'), rdflib.term.URIRef('http://www.w3.org/2001/XMLSchema#string'))\n",
      "(rdflib.term.URIRef('http://www.semanticweb.org/acemap#7CE9EBAC'), rdflib.term.URIRef('http://www.semanticweb.org/acemap#paper_title'), rdflib.term.Literal('Dropout:A simple way to prevent neural networks from overfitting', datatype=rdflib.term.URIRef('http://www.w3.org/2001/XMLSchema#string')))\n",
      "(rdflib.term.BNode('ub1bL39C60'), rdflib.term.URIRef('http://www.w3.org/2002/07/owl#someValuesFrom'), rdflib.term.URIRef('http://www.w3.org/2001/XMLSchema#string'))\n",
      "(rdflib.term.URIRef('http://www.semanticweb.org/acemap#paper_is_written_by'), rdflib.term.URIRef('http://www.w3.org/1999/02/22-rdf-syntax-ns#type'), rdflib.term.URIRef('http://www.w3.org/2002/07/owl#ObjectProperty'))\n",
      "(rdflib.term.BNode('ub1bL394C59'), rdflib.term.URIRef('http://www.w3.org/2002/07/owl#onProperty'), rdflib.term.URIRef('http://www.w3.org/2002/07/owl#topDataProperty'))\n",
      "(rdflib.term.URIRef('http://www.semanticweb.org/acemap#field_name'), rdflib.term.URIRef('http://www.w3.org/2000/01/rdf-schema#range'), rdflib.term.BNode('ub1bL149C59'))\n",
      "(rdflib.term.BNode('ub1bL181C59'), rdflib.term.URIRef('http://www.w3.org/1999/02/22-rdf-syntax-ns#type'), rdflib.term.URIRef('http://www.w3.org/2002/07/owl#Restriction'))\n",
      "(rdflib.term.URIRef('http://www.semanticweb.org/acemap#paper_keyword'), rdflib.term.URIRef('http://www.w3.org/2000/01/rdf-schema#domain'), rdflib.term.URIRef('http://www.semanticweb.org/acemap#Paper'))\n",
      "(rdflib.term.BNode('ub1bL409C67'), rdflib.term.URIRef('http://www.w3.org/2002/07/owl#onProperty'), rdflib.term.URIRef('http://www.w3.org/2002/07/owl#topDataProperty'))\n",
      "(rdflib.term.BNode('ub1bL149C59'), rdflib.term.URIRef('http://www.w3.org/1999/02/22-rdf-syntax-ns#type'), rdflib.term.URIRef('http://www.w3.org/2002/07/owl#Restriction'))\n",
      "(rdflib.term.URIRef('http://www.semanticweb.org/acemap#field_paper_num'), rdflib.term.URIRef('http://www.w3.org/1999/02/22-rdf-syntax-ns#type'), rdflib.term.URIRef('http://www.w3.org/2002/07/owl#ObjectProperty'))\n",
      "(rdflib.term.URIRef('http://www.semanticweb.org/acemap#author_citation_count'), rdflib.term.URIRef('http://www.w3.org/1999/02/22-rdf-syntax-ns#type'), rdflib.term.URIRef('http://www.w3.org/2002/07/owl#ObjectProperty'))\n",
      "(rdflib.term.BNode('ub1bL371C67'), rdflib.term.URIRef('http://www.w3.org/1999/02/22-rdf-syntax-ns#type'), rdflib.term.URIRef('http://www.w3.org/2002/07/owl#Restriction'))\n",
      "(rdflib.term.URIRef('http://www.semanticweb.org/acemap#paper_rank'), rdflib.term.URIRef('http://www.w3.org/2000/01/rdf-schema#range'), rdflib.term.BNode('ub1bL394C59'))\n",
      "(rdflib.term.URIRef('http://www.semanticweb.org/acemap#paper_publish_date'), rdflib.term.URIRef('http://www.w3.org/2000/01/rdf-schema#range'), rdflib.term.BNode('ub1bL371C67'))\n",
      "(rdflib.term.BNode('ub1bL93C60'), rdflib.term.URIRef('http://www.w3.org/1999/02/22-rdf-syntax-ns#type'), rdflib.term.URIRef('http://www.w3.org/2002/07/owl#Restriction'))\n",
      "(rdflib.term.URIRef('http://www.semanticweb.org/acemap#institute_name'), rdflib.term.URIRef('http://www.w3.org/1999/02/22-rdf-syntax-ns#type'), rdflib.term.URIRef('http://www.w3.org/2002/07/owl#ObjectProperty'))\n",
      "(rdflib.term.URIRef('http://www.semanticweb.org/acemap#Institute'), rdflib.term.URIRef('http://www.w3.org/1999/02/22-rdf-syntax-ns#type'), rdflib.term.URIRef('http://www.w3.org/2002/07/owl#Class'))\n",
      "(rdflib.term.URIRef('http://www.semanticweb.org/acemap#7CE9EBAC'), rdflib.term.URIRef('http://www.semanticweb.org/acemap#paper_sci_citation'), rdflib.term.Literal('11', datatype=rdflib.term.URIRef('http://www.w3.org/2001/XMLSchema#integer')))\n",
      "(rdflib.term.URIRef('http://www.semanticweb.org/acemap#7CE9EBAC'), rdflib.term.URIRef('http://www.semanticweb.org/acemap#paper_future_rank'), rdflib.term.Literal('462498', datatype=rdflib.term.URIRef('http://www.w3.org/2001/XMLSchema#integer')))\n",
      "(rdflib.term.URIRef('http://www.semanticweb.org/acemap#0304C748'), rdflib.term.URIRef('http://www.semanticweb.org/acemap#field_level'), rdflib.term.Literal('L2', datatype=rdflib.term.URIRef('http://www.w3.org/2001/XMLSchema#string')))\n",
      "(rdflib.term.URIRef('http://www.semanticweb.org/acemap#paper_is_written_by'), rdflib.term.URIRef('http://www.w3.org/2000/01/rdf-schema#domain'), rdflib.term.URIRef('http://www.semanticweb.org/acemap#Paper'))\n",
      "(rdflib.term.URIRef('http://www.semanticweb.org/acemap#218FC062'), rdflib.term.URIRef('http://www.semanticweb.org/acemap#work_in'), rdflib.term.URIRef('http://www.semanticweb.org/acemap#0B0ADEB6'))\n",
      "(rdflib.term.BNode('ub1bL149C59'), rdflib.term.URIRef('http://www.w3.org/2002/07/owl#someValuesFrom'), rdflib.term.URIRef('http://www.w3.org/2001/XMLSchema#string'))\n",
      "(rdflib.term.BNode('ub1bL335C66'), rdflib.term.URIRef('http://www.w3.org/1999/02/22-rdf-syntax-ns#type'), rdflib.term.URIRef('http://www.w3.org/2002/07/owl#Restriction'))\n",
      "(rdflib.term.URIRef('http://www.semanticweb.org/acemap#field_level'), rdflib.term.URIRef('http://www.w3.org/2000/01/rdf-schema#range'), rdflib.term.BNode('ub1bL159C59'))\n",
      "(rdflib.term.BNode('ub1bL216C71'), rdflib.term.URIRef('http://www.w3.org/1999/02/22-rdf-syntax-ns#type'), rdflib.term.URIRef('http://www.w3.org/2002/07/owl#Restriction'))\n",
      "(rdflib.term.BNode('ub1bL358C62'), rdflib.term.URIRef('http://www.w3.org/2002/07/owl#onProperty'), rdflib.term.URIRef('http://www.w3.org/2002/07/owl#topDataProperty'))\n",
      "(rdflib.term.URIRef('http://www.semanticweb.org/acemap#Field'), rdflib.term.URIRef('http://www.w3.org/1999/02/22-rdf-syntax-ns#type'), rdflib.term.URIRef('http://www.w3.org/2002/07/owl#Class'))\n",
      "(rdflib.term.BNode('ub1bL106C71'), rdflib.term.URIRef('http://www.w3.org/2002/07/owl#onProperty'), rdflib.term.URIRef('http://www.w3.org/2002/07/owl#topDataProperty'))\n",
      "(rdflib.term.URIRef('http://www.semanticweb.org/acemap#paper_rank'), rdflib.term.URIRef('http://www.w3.org/1999/02/22-rdf-syntax-ns#type'), rdflib.term.URIRef('http://www.w3.org/2002/07/owl#ObjectProperty'))\n",
      "(rdflib.term.URIRef('http://www.semanticweb.org/acemap#7CE9EBAC'), rdflib.term.URIRef('http://www.semanticweb.org/acemap#paper_keyword'), rdflib.term.Literal('none', datatype=rdflib.term.URIRef('http://www.w3.org/2001/XMLSchema#string')))\n",
      "(rdflib.term.BNode('ub1bL409C67'), rdflib.term.URIRef('http://www.w3.org/2002/07/owl#someValuesFrom'), rdflib.term.URIRef('http://www.w3.org/2001/XMLSchema#int'))\n",
      "(rdflib.term.URIRef('http://www.semanticweb.org/acemap#work_in'), rdflib.term.URIRef('http://www.w3.org/1999/02/22-rdf-syntax-ns#type'), rdflib.term.URIRef('http://www.w3.org/2002/07/owl#ObjectProperty'))\n",
      "(rdflib.term.BNode('ub1bL65C65'), rdflib.term.URIRef('http://www.w3.org/1999/02/22-rdf-syntax-ns#type'), rdflib.term.URIRef('http://www.w3.org/2002/07/owl#Restriction'))\n",
      "(rdflib.term.URIRef('http://www.semanticweb.org/acemap#218FC062'), rdflib.term.URIRef('http://www.w3.org/1999/02/22-rdf-syntax-ns#type'), rdflib.term.URIRef('http://www.semanticweb.org/acemap#Author'))\n",
      "(rdflib.term.URIRef('http://www.semanticweb.org/acemap#094D2874'), rdflib.term.URIRef('http://www.w3.org/1999/02/22-rdf-syntax-ns#type'), rdflib.term.URIRef('http://www.semanticweb.org/acemap#Conference'))\n",
      "(rdflib.term.BNode('ub1bL39C60'), rdflib.term.URIRef('http://www.w3.org/1999/02/22-rdf-syntax-ns#type'), rdflib.term.URIRef('http://www.w3.org/2002/07/owl#Restriction'))\n",
      "(rdflib.term.BNode('ub1bL170C59'), rdflib.term.URIRef('http://www.w3.org/2002/07/owl#onProperty'), rdflib.term.URIRef('http://www.w3.org/2002/07/owl#topDataProperty'))\n",
      "(rdflib.term.URIRef('http://www.semanticweb.org/acemap#paper_is_in_field'), rdflib.term.URIRef('http://www.w3.org/2000/01/rdf-schema#range'), rdflib.term.URIRef('http://www.semanticweb.org/acemap#Field'))\n",
      "(rdflib.term.URIRef('http://www.semanticweb.org/acemap#0B0ADEB6'), rdflib.term.URIRef('http://www.w3.org/1999/02/22-rdf-syntax-ns#type'), rdflib.term.URIRef('http://www.semanticweb.org/acemap#Institute'))\n",
      "(rdflib.term.BNode('ub1bL93C60'), rdflib.term.URIRef('http://www.w3.org/2002/07/owl#onProperty'), rdflib.term.URIRef('http://www.w3.org/2002/07/owl#topDataProperty'))\n",
      "(rdflib.term.URIRef('http://www.semanticweb.org/acemap#7CE9EBAC'), rdflib.term.URIRef('http://www.w3.org/1999/02/22-rdf-syntax-ns#type'), rdflib.term.URIRef('http://www.semanticweb.org/acemap#Paper'))\n",
      "(rdflib.term.URIRef('http://www.semanticweb.org/acemap#is_part_of_affiliation'), rdflib.term.URIRef('http://www.w3.org/2000/01/rdf-schema#range'), rdflib.term.URIRef('http://www.semanticweb.org/acemap#Affiliation'))\n",
      "(rdflib.term.URIRef('http://www.semanticweb.org/acemap#field_paper_num'), rdflib.term.URIRef('http://www.w3.org/2000/01/rdf-schema#domain'), rdflib.term.URIRef('http://www.semanticweb.org/acemap#Field'))\n",
      "(rdflib.term.URIRef('http://www.semanticweb.org/acemap#field_paper_num'), rdflib.term.URIRef('http://www.w3.org/2000/01/rdf-schema#range'), rdflib.term.BNode('ub1bL170C59'))\n",
      "(rdflib.term.URIRef('http://www.semanticweb.org/acemap#author_number_of_paper'), rdflib.term.URIRef('http://www.w3.org/2000/01/rdf-schema#range'), rdflib.term.BNode('ub1bL106C71'))\n",
      "(rdflib.term.BNode('ub1bL159C59'), rdflib.term.URIRef('http://www.w3.org/1999/02/22-rdf-syntax-ns#type'), rdflib.term.URIRef('http://www.w3.org/2002/07/owl#Restriction'))\n",
      "(rdflib.term.BNode('ub1bL181C59'), rdflib.term.URIRef('http://www.w3.org/2002/07/owl#someValuesFrom'), rdflib.term.URIRef('http://www.w3.org/2001/XMLSchema#int'))\n",
      "(rdflib.term.BNode('ub1bL205C71'), rdflib.term.URIRef('http://www.w3.org/2002/07/owl#onProperty'), rdflib.term.URIRef('http://www.w3.org/2002/07/owl#topDataProperty'))\n",
      "(rdflib.term.URIRef('http://www.semanticweb.org/acemap#paper_citation_count'), rdflib.term.URIRef('http://www.w3.org/1999/02/22-rdf-syntax-ns#type'), rdflib.term.URIRef('http://www.w3.org/2002/07/owl#ObjectProperty'))\n",
      "(rdflib.term.URIRef('http://www.semanticweb.org/acemap#insititute_name'), rdflib.term.URIRef('http://www.w3.org/1999/02/22-rdf-syntax-ns#type'), rdflib.term.URIRef('http://www.w3.org/2002/07/owl#ObjectProperty'))\n",
      "(rdflib.term.URIRef('http://www.semanticweb.org/acemap#is_part_of_affiliation'), rdflib.term.URIRef('http://www.w3.org/2000/01/rdf-schema#domain'), rdflib.term.URIRef('http://www.semanticweb.org/acemap#Institute'))\n",
      "(rdflib.term.URIRef('http://www.semanticweb.org/acemap#Conference'), rdflib.term.URIRef('http://www.w3.org/1999/02/22-rdf-syntax-ns#type'), rdflib.term.URIRef('http://www.w3.org/2002/07/owl#Class'))\n",
      "(rdflib.term.BNode('ub1bL52C75'), rdflib.term.URIRef('http://www.w3.org/1999/02/22-rdf-syntax-ns#type'), rdflib.term.URIRef('http://www.w3.org/2002/07/owl#Restriction'))\n",
      "(rdflib.term.BNode('ub1bL409C67'), rdflib.term.URIRef('http://www.w3.org/1999/02/22-rdf-syntax-ns#type'), rdflib.term.URIRef('http://www.w3.org/2002/07/owl#Restriction'))\n",
      "(rdflib.term.URIRef('http://www.semanticweb.org/acemap#author_sci_citation'), rdflib.term.URIRef('http://www.w3.org/1999/02/22-rdf-syntax-ns#type'), rdflib.term.URIRef('http://www.w3.org/2002/07/owl#ObjectProperty'))\n",
      "(rdflib.term.URIRef('http://www.semanticweb.org/acemap#paper_is_in_field'), rdflib.term.URIRef('http://www.w3.org/1999/02/22-rdf-syntax-ns#type'), rdflib.term.URIRef('http://www.w3.org/2002/07/owl#ObjectProperty'))\n",
      "(rdflib.term.URIRef('http://www.semanticweb.org/acemap#conference_full_name'), rdflib.term.URIRef('http://www.w3.org/2000/01/rdf-schema#domain'), rdflib.term.URIRef('http://www.semanticweb.org/acemap#Conference'))\n",
      "(rdflib.term.URIRef('http://www.semanticweb.org/acemap#paper_citation_count'), rdflib.term.URIRef('http://www.w3.org/2000/01/rdf-schema#domain'), rdflib.term.URIRef('http://www.semanticweb.org/acemap#Paper'))\n",
      "(rdflib.term.URIRef('http://www.semanticweb.org/acemap#Paper'), rdflib.term.URIRef('http://www.w3.org/1999/02/22-rdf-syntax-ns#type'), rdflib.term.URIRef('http://www.w3.org/2002/07/owl#Class'))\n",
      "(rdflib.term.BNode('ub1bL358C62'), rdflib.term.URIRef('http://www.w3.org/2002/07/owl#someValuesFrom'), rdflib.term.URIRef('http://www.w3.org/2001/XMLSchema#string'))\n",
      "(rdflib.term.URIRef('http://www.semanticweb.org/acemap#paper_publish_date'), rdflib.term.URIRef('http://www.w3.org/2000/01/rdf-schema#domain'), rdflib.term.URIRef('http://www.semanticweb.org/acemap#Conference'))\n",
      "(rdflib.term.URIRef('http://www.semanticweb.org/acemap#218FC062'), rdflib.term.URIRef('http://www.semanticweb.org/acemap#author_is_in_field'), rdflib.term.URIRef('http://www.semanticweb.org/acemap#0304C748'))\n",
      "(rdflib.term.URIRef('http://www.semanticweb.org/acemap#0304C748'), rdflib.term.URIRef('http://www.w3.org/1999/02/22-rdf-syntax-ns#type'), rdflib.term.URIRef('http://www.semanticweb.org/acemap#Field'))\n",
      "(rdflib.term.BNode('ub1bL238C77'), rdflib.term.URIRef('http://www.w3.org/2002/07/owl#onProperty'), rdflib.term.URIRef('http://www.w3.org/2002/07/owl#topDataProperty'))\n",
      "(rdflib.term.BNode('ub1bL261C63'), rdflib.term.URIRef('http://www.w3.org/2002/07/owl#onProperty'), rdflib.term.URIRef('http://www.w3.org/2002/07/owl#topDataProperty'))\n",
      "(rdflib.term.BNode('ub1bL65C65'), rdflib.term.URIRef('http://www.w3.org/2002/07/owl#someValuesFrom'), rdflib.term.URIRef('http://www.w3.org/2001/XMLSchema#string'))\n",
      "(rdflib.term.BNode('ub1bL52C75'), rdflib.term.URIRef('http://www.w3.org/2002/07/owl#someValuesFrom'), rdflib.term.URIRef('http://www.w3.org/2001/XMLSchema#date'))\n",
      "(rdflib.term.URIRef('http://www.semanticweb.org/acemap#journal_name'), rdflib.term.URIRef('http://www.w3.org/1999/02/22-rdf-syntax-ns#type'), rdflib.term.URIRef('http://www.w3.org/2002/07/owl#ObjectProperty'))\n",
      "(rdflib.term.URIRef('http://www.semanticweb.org/acemap#Journal'), rdflib.term.URIRef('http://www.w3.org/2000/01/rdf-schema#subClassOf'), rdflib.term.URIRef('http://www.semanticweb.org/acemap#Venue'))\n",
      "(rdflib.term.URIRef('http://www.semanticweb.org/acemap#218FC062'), rdflib.term.URIRef('http://www.semanticweb.org/acemap#author_sci_citation'), rdflib.term.Literal('7565', datatype=rdflib.term.URIRef('http://www.w3.org/2001/XMLSchema#integer')))\n",
      "(rdflib.term.URIRef('http://www.semanticweb.org/acemap#field_reference_count'), rdflib.term.URIRef('http://www.w3.org/1999/02/22-rdf-syntax-ns#type'), rdflib.term.URIRef('http://www.w3.org/2002/07/owl#ObjectProperty'))\n",
      "(rdflib.term.BNode('ub1bL216C71'), rdflib.term.URIRef('http://www.w3.org/2002/07/owl#onProperty'), rdflib.term.URIRef('http://www.w3.org/2002/07/owl#topDataProperty'))\n",
      "(rdflib.term.BNode('ub1bL261C63'), rdflib.term.URIRef('http://www.w3.org/1999/02/22-rdf-syntax-ns#type'), rdflib.term.URIRef('http://www.w3.org/2002/07/owl#Restriction'))\n",
      "(rdflib.term.URIRef('http://www.semanticweb.org/acemap#paper_cit_paper'), rdflib.term.URIRef('http://www.w3.org/1999/02/22-rdf-syntax-ns#type'), rdflib.term.URIRef('http://www.w3.org/2002/07/owl#ObjectProperty'))\n",
      "(rdflib.term.URIRef('http://www.semanticweb.org/acemap#07179FAA'), rdflib.term.URIRef('http://www.semanticweb.org/acemap#journal_name'), rdflib.term.Literal('journal of Machine Learning Research', datatype=rdflib.term.URIRef('http://www.w3.org/2001/XMLSchema#string')))\n",
      "(rdflib.term.URIRef('http://www.semanticweb.org/acemap#paper_publish_on'), rdflib.term.URIRef('http://www.w3.org/2000/01/rdf-schema#domain'), rdflib.term.URIRef('http://www.semanticweb.org/acemap#Paper'))\n",
      "(rdflib.term.URIRef('http://www.semanticweb.org/acemap#0304C748'), rdflib.term.URIRef('http://www.semanticweb.org/acemap#field_name'), rdflib.term.Literal('Artificial neural network', datatype=rdflib.term.URIRef('http://www.w3.org/2001/XMLSchema#string')))\n",
      "(rdflib.term.URIRef('http://www.semanticweb.org/acemap#791D05BF'), rdflib.term.URIRef('http://www.w3.org/1999/02/22-rdf-syntax-ns#type'), rdflib.term.URIRef('http://www.semanticweb.org/acemap#Author'))\n",
      "(rdflib.term.BNode('ub1bL106C71'), rdflib.term.URIRef('http://www.w3.org/1999/02/22-rdf-syntax-ns#type'), rdflib.term.URIRef('http://www.w3.org/2002/07/owl#Restriction'))\n",
      "(rdflib.term.URIRef('http://www.semanticweb.org/acemap#institute_name'), rdflib.term.URIRef('http://www.w3.org/2000/01/rdf-schema#range'), rdflib.term.BNode('ub1bL261C63'))\n",
      "(rdflib.term.BNode('ub1bL322C66'), rdflib.term.URIRef('http://www.w3.org/1999/02/22-rdf-syntax-ns#type'), rdflib.term.URIRef('http://www.w3.org/2002/07/owl#Restriction'))\n",
      "(rdflib.term.URIRef('http://www.semanticweb.org/acemap#paper_cs_relevant'), rdflib.term.URIRef('http://www.w3.org/2000/01/rdf-schema#range'), rdflib.term.BNode('ub1bL322C66'))\n",
      "(rdflib.term.URIRef('http://www.semanticweb.org/acemap#paper_rank'), rdflib.term.URIRef('http://www.w3.org/2000/01/rdf-schema#domain'), rdflib.term.URIRef('http://www.semanticweb.org/acemap#Paper'))\n",
      "(rdflib.term.BNode('ub1bL358C62'), rdflib.term.URIRef('http://www.w3.org/1999/02/22-rdf-syntax-ns#type'), rdflib.term.URIRef('http://www.w3.org/2002/07/owl#Restriction'))\n",
      "(rdflib.term.URIRef('http://www.semanticweb.org/acemap#author_citation_count'), rdflib.term.URIRef('http://www.w3.org/2000/01/rdf-schema#domain'), rdflib.term.URIRef('http://www.semanticweb.org/acemap#Author'))\n",
      "(rdflib.term.URIRef('http://www.semanticweb.org/acemap#Journal'), rdflib.term.URIRef('http://www.w3.org/1999/02/22-rdf-syntax-ns#type'), rdflib.term.URIRef('http://www.w3.org/2002/07/owl#Class'))\n",
      "(rdflib.term.URIRef('http://www.semanticweb.org/acemap#author_is_in_field'), rdflib.term.URIRef('http://www.w3.org/2000/01/rdf-schema#range'), rdflib.term.URIRef('http://www.semanticweb.org/acemap#Field'))\n",
      "(rdflib.term.URIRef('http://www.semanticweb.org/acemap#conference_short_name'), rdflib.term.URIRef('http://www.w3.org/1999/02/22-rdf-syntax-ns#type'), rdflib.term.URIRef('http://www.w3.org/2002/07/owl#ObjectProperty'))\n",
      "(rdflib.term.BNode('ub1bL285C61'), rdflib.term.URIRef('http://www.w3.org/2002/07/owl#onProperty'), rdflib.term.URIRef('http://www.w3.org/2002/07/owl#topDataProperty'))\n",
      "(rdflib.term.BNode('ub1bL309C69'), rdflib.term.URIRef('http://www.w3.org/2002/07/owl#someValuesFrom'), rdflib.term.URIRef('http://www.w3.org/2001/XMLSchema#int'))\n",
      "(rdflib.term.URIRef('http://www.semanticweb.org/acemap#affiliation_name'), rdflib.term.URIRef('http://www.w3.org/2000/01/rdf-schema#range'), rdflib.term.BNode('ub1bL65C65'))\n",
      "(rdflib.term.URIRef('http://www.semanticweb.org/acemap#author_citation_count'), rdflib.term.URIRef('http://www.w3.org/2000/01/rdf-schema#range'), rdflib.term.BNode('ub1bL78C70'))\n",
      "(rdflib.term.URIRef('http://www.semanticweb.org/acemap#paper_cit_paper'), rdflib.term.URIRef('http://www.w3.org/2000/01/rdf-schema#domain'), rdflib.term.URIRef('http://www.semanticweb.org/acemap#Paper'))\n",
      "(rdflib.term.BNode('ub1bL106C71'), rdflib.term.URIRef('http://www.w3.org/2002/07/owl#someValuesFrom'), rdflib.term.URIRef('http://www.w3.org/2001/XMLSchema#int'))\n",
      "(rdflib.term.URIRef('http://www.semanticweb.org/acemap#Conference'), rdflib.term.URIRef('http://www.w3.org/2000/01/rdf-schema#subClassOf'), rdflib.term.URIRef('http://www.semanticweb.org/acemap#Venue'))\n",
      "(rdflib.term.BNode('ub1bL118C68'), rdflib.term.URIRef('http://www.w3.org/2002/07/owl#onProperty'), rdflib.term.URIRef('http://www.w3.org/2002/07/owl#topDataProperty'))\n",
      "(rdflib.term.URIRef('http://www.semanticweb.org/acemap#author_sci_citation'), rdflib.term.URIRef('http://www.w3.org/2000/01/rdf-schema#range'), rdflib.term.BNode('ub1bL118C68'))\n",
      "(rdflib.term.BNode('ub1bL193C59'), rdflib.term.URIRef('http://www.w3.org/1999/02/22-rdf-syntax-ns#type'), rdflib.term.URIRef('http://www.w3.org/2002/07/owl#Restriction'))\n",
      "(rdflib.term.BNode('ub1bL285C61'), rdflib.term.URIRef('http://www.w3.org/2002/07/owl#someValuesFrom'), rdflib.term.URIRef('http://www.w3.org/2001/XMLSchema#string'))\n",
      "(rdflib.term.BNode('ub1bL65C65'), rdflib.term.URIRef('http://www.w3.org/2002/07/owl#onProperty'), rdflib.term.URIRef('http://www.w3.org/2002/07/owl#topDataProperty'))\n",
      "(rdflib.term.BNode('ub1bL238C77'), rdflib.term.URIRef('http://www.w3.org/1999/02/22-rdf-syntax-ns#type'), rdflib.term.URIRef('http://www.w3.org/2002/07/owl#Restriction'))\n",
      "(rdflib.term.URIRef('http://www.semanticweb.org/acemap#paper_publish_on'), rdflib.term.URIRef('http://www.w3.org/1999/02/22-rdf-syntax-ns#type'), rdflib.term.URIRef('http://www.w3.org/2002/07/owl#ObjectProperty'))\n",
      "(rdflib.term.BNode('ub1bL227C71'), rdflib.term.URIRef('http://www.w3.org/2002/07/owl#onProperty'), rdflib.term.URIRef('http://www.w3.org/2002/07/owl#topDataProperty'))\n",
      "(rdflib.term.URIRef('http://www.semanticweb.org/acemap#paper_future_rank'), rdflib.term.URIRef('http://www.w3.org/2000/01/rdf-schema#domain'), rdflib.term.URIRef('http://www.semanticweb.org/acemap#Paper'))\n",
      "(rdflib.term.URIRef('http://www.semanticweb.org/acemap#7CE9EBAC'), rdflib.term.URIRef('http://www.semanticweb.org/acemap#paper_citation_count'), rdflib.term.Literal('67', datatype=rdflib.term.URIRef('http://www.w3.org/2001/XMLSchema#integer')))\n",
      "(rdflib.term.BNode('ub1bL216C71'), rdflib.term.URIRef('http://www.w3.org/2002/07/owl#someValuesFrom'), rdflib.term.URIRef('http://www.w3.org/2001/XMLSchema#string'))\n",
      "(rdflib.term.BNode('ub1bL285C61'), rdflib.term.URIRef('http://www.w3.org/1999/02/22-rdf-syntax-ns#type'), rdflib.term.URIRef('http://www.w3.org/2002/07/owl#Restriction'))\n",
      "(rdflib.term.URIRef('http://www.semanticweb.org/acemap#7CE9EBAC'), rdflib.term.URIRef('http://www.semanticweb.org/acemap#paper_cs_relevant'), rdflib.term.Literal('false', datatype=rdflib.term.URIRef('http://www.w3.org/2001/XMLSchema#boolean')))\n",
      "(rdflib.term.URIRef('http://www.semanticweb.org/acemap#paper_publish_date'), rdflib.term.URIRef('http://www.w3.org/2000/01/rdf-schema#range'), rdflib.term.BNode('ub1bL52C75'))\n",
      "(rdflib.term.URIRef('http://www.semanticweb.org/acemap#field_level'), rdflib.term.URIRef('http://www.w3.org/1999/02/22-rdf-syntax-ns#type'), rdflib.term.URIRef('http://www.w3.org/2002/07/owl#ObjectProperty'))\n",
      "(rdflib.term.URIRef('http://www.semanticweb.org/acemap#paper_keyword'), rdflib.term.URIRef('http://www.w3.org/2000/01/rdf-schema#range'), rdflib.term.BNode('ub1bL358C62'))\n",
      "(rdflib.term.URIRef('http://www.semanticweb.org/acemap#paper_publish_date'), rdflib.term.URIRef('http://www.w3.org/1999/02/22-rdf-syntax-ns#type'), rdflib.term.URIRef('http://www.w3.org/2002/07/owl#ObjectProperty'))\n",
      "(rdflib.term.URIRef('http://www.semanticweb.org/acemap#field_name'), rdflib.term.URIRef('http://www.w3.org/2000/01/rdf-schema#domain'), rdflib.term.URIRef('http://www.semanticweb.org/acemap#Field'))\n",
      "(rdflib.term.URIRef('http://www.semanticweb.org/acemap#0B0ADEB6'), rdflib.term.URIRef('http://www.semanticweb.org/acemap#institute_name'), rdflib.term.Literal('university of toronto', datatype=rdflib.term.URIRef('http://www.w3.org/2001/XMLSchema#string')))\n",
      "(rdflib.term.BNode('ub1bL78C70'), rdflib.term.URIRef('http://www.w3.org/2002/07/owl#someValuesFrom'), rdflib.term.URIRef('http://www.w3.org/2001/XMLSchema#int'))\n",
      "(rdflib.term.BNode('ub1bL193C59'), rdflib.term.URIRef('http://www.w3.org/2002/07/owl#onProperty'), rdflib.term.URIRef('http://www.w3.org/2002/07/owl#topDataProperty'))\n",
      "(rdflib.term.BNode('ub1bL181C59'), rdflib.term.URIRef('http://www.w3.org/2002/07/owl#onProperty'), rdflib.term.URIRef('http://www.w3.org/2002/07/owl#topDataProperty'))\n",
      "(rdflib.term.BNode('ub1bL93C60'), rdflib.term.URIRef('http://www.w3.org/2002/07/owl#someValuesFrom'), rdflib.term.URIRef('http://www.w3.org/2001/XMLSchema#string'))\n",
      "(rdflib.term.URIRef('http://www.semanticweb.org/acemap#work_in'), rdflib.term.URIRef('http://www.w3.org/2000/01/rdf-schema#range'), rdflib.term.URIRef('http://www.semanticweb.org/acemap#Author'))\n",
      "(rdflib.term.URIRef('http://www.semanticweb.org/acemap#paper_future_rank'), rdflib.term.URIRef('http://www.w3.org/1999/02/22-rdf-syntax-ns#type'), rdflib.term.URIRef('http://www.w3.org/2002/07/owl#ObjectProperty'))\n",
      "(rdflib.term.URIRef('http://www.semanticweb.org/acemap#field_is_part_of'), rdflib.term.URIRef('http://www.w3.org/2000/01/rdf-schema#range'), rdflib.term.BNode('ub1bL193C59'))\n",
      "(rdflib.term.URIRef('http://www.semanticweb.org/acemap#conference_short_name'), rdflib.term.URIRef('http://www.w3.org/2000/01/rdf-schema#range'), rdflib.term.BNode('ub1bL227C71'))\n",
      "(rdflib.term.URIRef('http://www.semanticweb.org/acemap#author_name'), rdflib.term.URIRef('http://www.w3.org/2000/01/rdf-schema#domain'), rdflib.term.URIRef('http://www.semanticweb.org/acemap#Author'))\n",
      "(rdflib.term.URIRef('http://www.semanticweb.org/acemap#7BFA9BE5'), rdflib.term.URIRef('http://www.w3.org/1999/02/22-rdf-syntax-ns#type'), rdflib.term.URIRef('http://www.semanticweb.org/acemap#Paper'))\n",
      "(rdflib.term.URIRef('http://www.semanticweb.org/acemap#0B0ADEB6'), rdflib.term.URIRef('http://www.semanticweb.org/acemap#is_part_of_affiliation'), rdflib.term.URIRef('http://www.semanticweb.org/acemap#qs50'))\n",
      "(rdflib.term.BNode('ub1bL78C70'), rdflib.term.URIRef('http://www.w3.org/1999/02/22-rdf-syntax-ns#type'), rdflib.term.URIRef('http://www.w3.org/2002/07/owl#Restriction'))\n",
      "(rdflib.term.BNode('ub1bL322C66'), rdflib.term.URIRef('http://www.w3.org/2002/07/owl#onProperty'), rdflib.term.URIRef('http://www.w3.org/2002/07/owl#topDataProperty'))\n",
      "(rdflib.term.BNode('ub1bL371C67'), rdflib.term.URIRef('http://www.w3.org/2002/07/owl#onProperty'), rdflib.term.URIRef('http://www.w3.org/2002/07/owl#topDataProperty'))\n",
      "(rdflib.term.URIRef('http://www.semanticweb.org/acemap#work_in'), rdflib.term.URIRef('http://www.w3.org/2000/01/rdf-schema#domain'), rdflib.term.URIRef('http://www.semanticweb.org/acemap#Institute'))\n",
      "(rdflib.term.URIRef('http://www.semanticweb.org/acemap#paper_is_in_field'), rdflib.term.URIRef('http://www.w3.org/2000/01/rdf-schema#domain'), rdflib.term.URIRef('http://www.semanticweb.org/acemap#Paper'))\n",
      "(rdflib.term.URIRef('http://www.semanticweb.org/acemap#Affiliation'), rdflib.term.URIRef('http://www.w3.org/1999/02/22-rdf-syntax-ns#type'), rdflib.term.URIRef('http://www.w3.org/2002/07/owl#Class'))\n",
      "(rdflib.term.URIRef('http://www.semanticweb.org/acemap#author_number_of_paper'), rdflib.term.URIRef('http://www.w3.org/1999/02/22-rdf-syntax-ns#type'), rdflib.term.URIRef('http://www.w3.org/2002/07/owl#ObjectProperty'))\n",
      "(rdflib.term.URIRef('http://www.semanticweb.org/acemap#field_is_part_of'), rdflib.term.URIRef('http://www.w3.org/1999/02/22-rdf-syntax-ns#type'), rdflib.term.URIRef('http://www.w3.org/2002/07/owl#ObjectProperty'))\n",
      "(rdflib.term.BNode('ub1bL227C71'), rdflib.term.URIRef('http://www.w3.org/1999/02/22-rdf-syntax-ns#type'), rdflib.term.URIRef('http://www.w3.org/2002/07/owl#Restriction'))\n",
      "(rdflib.term.URIRef('http://www.semanticweb.org/acemap#paper_title'), rdflib.term.URIRef('http://www.w3.org/1999/02/22-rdf-syntax-ns#type'), rdflib.term.URIRef('http://www.w3.org/2002/07/owl#ObjectProperty'))\n",
      "(rdflib.term.URIRef('http://www.semanticweb.org/acemap#paper_sci_citation'), rdflib.term.URIRef('http://www.w3.org/1999/02/22-rdf-syntax-ns#type'), rdflib.term.URIRef('http://www.w3.org/2002/07/owl#ObjectProperty'))\n",
      "(rdflib.term.URIRef('http://www.semanticweb.org/acemap#094D2874'), rdflib.term.URIRef('http://www.semanticweb.org/acemap#conference_short_name'), rdflib.term.Literal('KDD 2015', datatype=rdflib.term.URIRef('http://www.w3.org/2001/XMLSchema#string')))\n"
     ]
    }
   ],
   "source": [
    "#!/usr/bin/python\n",
    "# -*- coding: utf-8 -*-\n",
    "from Extractors import *\n",
    "graphe = Graph()\n",
    "##bloc pour de selection des fichier a upload dans le graphe graphe.parse(file, format)\n",
    "graphe.parse(location = \"TTLFiles/acemap.ttl\", format = \"turtle\")\n",
    "graphe.parse(location = \"TTLFiles/affiliation.ttl\", format = \"turtle\")\n",
    "graphe.parse(location = \"TTLFiles/author.ttl\", format = \"turtle\")\n",
    "graphe.parse(location = \"TTLFiles/conference.ttl\", format = \"turtle\")\n",
    "graphe.parse(location = \"TTLFiles/field.ttl\", format = \"turtle\")\n",
    "graphe.parse(location = \"TTLFiles/institute.ttl\", format = \"turtle\")\n",
    "graphe.parse(location = \"TTLFiles/journal.ttl\", format = \"turtle\")\n",
    "graphe.parse(location = \"TTLFiles/paper.ttl\", format = \"turtle\")\n",
    "\n",
    "##\n",
    "for (s, p , o) in graphe : \n",
    "    print((s,p,o))"
   ]
  },
  {
   "cell_type": "code",
   "execution_count": 2,
   "metadata": {},
   "outputs": [],
   "source": [
    "#!/usr/bin/python\n",
    "# -*- coding: utf-8 -*-\n",
    "from Extractors import *\n",
    "from rdflib import Graph, RDF, URIRef, Literal\n",
    "from rdflib.namespace import RDF, XSD, FOAF, Namespace"
   ]
  },
  {
   "cell_type": "code",
   "execution_count": 3,
   "metadata": {},
   "outputs": [],
   "source": [
    "graphe = Graph()\n",
    "ace = Namespace(\"http://www.semanticweb.org/acemap#\")\n",
    "auteur1 = URIRef(\"http://www.semanticweb.org/acemap#001\")\n",
    "auteur2 = URIRef(\"http://www.semanticweb.org/acemap#002\")\n",
    "auteur3 = URIRef(\"http://www.semanticweb.org/acemap#003\")\n",
    "paper1 = URIRef(\"http://www.semanticweb.org/acemap#010\")\n",
    "paper2 = URIRef(\"http://www.semanticweb.org/acemap#020\")\n",
    "paper3 = URIRef(\"http://www.semanticweb.org/acemap#030\")\n",
    "field1 = URIRef(\"http://www.semanticweb.org/acemap#100\")\n",
    "field2 = URIRef(\"http://www.semanticweb.org/acemap#200\")\n",
    "graphe.add((auteur1, RDF.type, ace.Author))\n",
    "graphe.add((auteur2, RDF.type, ace.Author))\n",
    "graphe.add((auteur3, RDF.type, ace.Author))\n",
    "graphe.add((paper1, RDF.type, ace.Paper))\n",
    "graphe.add((paper2, RDF.type, ace.Paper))\n",
    "graphe.add((paper3, RDF.type, ace.Paper))\n",
    "graphe.add((field1, RDF.type, ace.Field))\n",
    "graphe.add((field2, RDF.type, ace.Field))\n",
    "graphe.add((auteur1, ace.author_name, Literal(\"Remi DURET\", datatype=XSD.string)))\n",
    "graphe.add((auteur2, ace.author_name, Literal(\"Waris RADJI\", datatype=XSD.string)))\n",
    "graphe.add((auteur3, ace.author_name, Literal(\"Colin ESPINAS\", datatype=XSD.string)))\n",
    "graphe.add((field1, ace.field_name, Literal(\"Genie Logiciel\", datatype=XSD.string)))\n",
    "graphe.add((field2, ace.field_name, Literal(\"Data Science\", datatype=XSD.string)))\n",
    "graphe.add((paper1, ace.paper_title, Literal(\"Optisimation des applications de bureau\", datatype=XSD.string)))\n",
    "graphe.add((paper2, ace.paper_title, Literal(\"Les algorithmes de data mining\", datatype=XSD.string)))\n",
    "graphe.add((paper3, ace.paper_title, Literal(\"Faire un framework complet\", datatype=XSD.string)))\n",
    "graphe.add((auteur1, ace.author_is_in_field, field1))\n",
    "graphe.add((auteur2, ace.author_is_in_field, field1))\n",
    "graphe.add((auteur2, ace.author_is_in_field, field2))\n",
    "graphe.add((auteur3, ace.author_is_in_field, field1))\n",
    "graphe.add((auteur3, ace.author_is_in_field, field2))\n",
    "graphe.add((paper1, ace.paper_is_in_field, field1))\n",
    "graphe.add((paper2, ace.paper_is_in_field, field1))\n",
    "graphe.add((paper2, ace.paper_is_in_field, field2))\n",
    "graphe.add((paper3, ace.paper_is_in_field, field1))\n",
    "graphe.add((paper3, ace.paper_is_in_field, field2))\n",
    "graphe.add((paper1, ace.paper_is_written_by, auteur1))\n",
    "graphe.add((paper2, ace.paper_is_written_by, auteur2))\n",
    "graphe.add((paper2, ace.paper_is_written_by, auteur3))\n",
    "graphe.add((paper3, ace.paper_is_written_by, auteur3))\n",
    "graphe.add((paper2, ace.paper_cit_paper, paper1))\n",
    "graphe.add((paper3, ace.paper_cit_paper, paper1))\n",
    "graphe.add((paper3, ace.paper_cit_paper, paper2))\n",
    "graphe.add((paper1, ace.paper_publish_date, Literal(\"2015-03-26\", datatype=XSD.date)))\n",
    "graphe.add((paper2, ace.paper_publish_date, Literal(\"2018-05-12\", datatype=XSD.date)))\n",
    "graphe.add((paper3, ace.paper_publish_date, Literal(\"2020-02-07\", datatype=XSD.date)))"
   ]
  },
  {
   "cell_type": "code",
   "execution_count": 4,
   "metadata": {},
   "outputs": [
    {
     "name": "stdout",
     "output_type": "stream",
     "text": [
      "{'Objets': ['AUTH_Colin_ESPINAS', 'AUTH_Waris_RADJI', 'AUTH_Remi_DURET'], 'Items': ['Year_2018', 'Year_2020', 'Year_2015', 'CONC_Data_Science', 'CONC_Genie_Logiciel'], 'Itemsets': {0: [0, 1, 3, 4], 1: [0, 4, 3], 2: [2, 4]}, 'Graphe': {0: [1], 1: [0], 2: []}}\n"
     ]
    }
   ],
   "source": [
    "dicoNRICoauteurs = CreerCoauteurs(graphe) \n",
    "print(dicoNRICoauteurs)"
   ]
  },
  {
   "cell_type": "code",
   "execution_count": 5,
   "metadata": {},
   "outputs": [
    {
     "name": "stdout",
     "output_type": "stream",
     "text": [
      "{'Objets': ['AUTH_Colin_ESPINAS', 'AUTH_Waris_RADJI', 'AUTH_Remi_DURET'], 'Items': ['Year_2018', 'Year_2020', 'Year_2015', 'CONC_Data_Science', 'CONC_Genie_Logiciel'], 'Itemsets': {0: [0, 1, 3, 4], 1: [0, 4, 3], 2: [2, 4]}, 'Graphe': {0: [2, 0, 1], 1: [2], 2: []}}\n"
     ]
    }
   ],
   "source": [
    "dicoNRICitations = CreerCitations(graphe)\n",
    "print(dicoNRICitations)"
   ]
  },
  {
   "cell_type": "code",
   "execution_count": 6,
   "metadata": {},
   "outputs": [
    {
     "name": "stdout",
     "output_type": "stream",
     "text": [
      "{'Objets': ['PAPE_030', 'PAPE_020', 'PAPE_010'], 'Items': ['AUTH_Colin_ESPINAS', 'AUTH_Waris_RADJI', 'AUTH_Remi_DURET', 'Year_2020', 'Year_2018', 'Year_2015', 'CONC_Data_Science', 'CONC_Genie_Logiciel'], 'Itemsets': {0: [0, 3, 6, 7], 1: [0, 1, 4, 6, 7], 2: [2, 5, 7]}, 'Graphe': {0: [1], 1: [0], 2: []}}\n"
     ]
    }
   ],
   "source": [
    "dicoNRICopublication = CreerCopublications(graphe)\n",
    "print(dicoNRICopublication)"
   ]
  },
  {
   "cell_type": "code",
   "execution_count": 7,
   "metadata": {},
   "outputs": [
    {
     "name": "stdout",
     "output_type": "stream",
     "text": [
      "{'Objets': ['PAPE_030', 'PAPE_020', 'PAPE_010'], 'Items': ['AUTH_Colin_ESPINAS', 'AUTH_Waris_RADJI', 'AUTH_Remi_DURET', 'Year_2020', 'Year_2018', 'Year_2015', 'CONC_Data_Science', 'CONC_Genie_Logiciel'], 'Itemsets': {0: [0, 3, 6, 7], 1: [0, 1, 4, 6, 7], 2: [2, 5, 7]}, 'Graphe': {0: [2, 1], 1: [2], 2: []}}\n"
     ]
    }
   ],
   "source": [
    "dicoNRICitationsP = CreerCitationsP(graphe)\n",
    "print(dicoNRICitationsP)"
   ]
  },
  {
   "cell_type": "code",
   "execution_count": 8,
   "metadata": {},
   "outputs": [
    {
     "name": "stdout",
     "output_type": "stream",
     "text": [
      "{'Objets': ['CONC_Data_Science', 'CONC_Genie_Logiciel'], 'Items': ['AUTH_Colin_ESPINAS', 'AUTH_Waris_RADJI', 'AUTH_Remi_DURET', 'Year_2020', 'Year_2018', 'Year_2015'], 'Itemsets': {0: [0, 1, 3, 4], 1: [1, 0, 2, 5, 3, 4]}, 'Graphe': {0: [1], 1: [0]}}\n"
     ]
    }
   ],
   "source": [
    "dicoNRICooccurence = CreerCooccurence(graphe)\n",
    "print(dicoNRICooccurence)"
   ]
  },
  {
   "cell_type": "code",
   "execution_count": 10,
   "metadata": {},
   "outputs": [
    {
     "name": "stdout",
     "output_type": "stream",
     "text": [
      "{'Objets': ['PAPE_030', 'PAPE_020', 'PAPE_010', 'AUTH_Colin_ESPINAS', 'AUTH_Waris_RADJI', 'AUTH_Remi_DURET'], 'Items': ['A_Year_2018', 'A_Year_2020', 'A_Year_2015', 'P_Year_2020', 'P_Year_2018', 'P_Year_2015', 'CONC_Genie_Logiciel', 'CONC_Data_Science'], 'Itemsets': {0: [3, 7, 6], 1: [4, 7, 6], 2: [5, 6], 3: [0, 1, 7, 6], 4: [0, 6, 7], 5: [2, 6]}, 'Graphe': {0: [3], 1: [3, 4], 2: [5], 3: [1, 0], 4: [1], 5: [2]}}\n"
     ]
    }
   ],
   "source": [
    "biparti1 = CreerPubAut(graphe)\n",
    "print(biparti1)"
   ]
  },
  {
   "cell_type": "code",
   "execution_count": 11,
   "metadata": {},
   "outputs": [
    {
     "name": "stdout",
     "output_type": "stream",
     "text": [
      "{'Objets': ['PAPE_030', 'PAPE_020', 'PAPE_010', 'AUTH_Colin_ESPINAS', 'AUTH_Waris_RADJI', 'AUTH_Remi_DURET'], 'Items': ['A_Year_2018', 'A_Year_2020', 'A_Year_2015', 'P_Year_2020', 'P_Year_2018', 'P_Year_2015', 'CONC_Genie_Logiciel', 'CONC_Data_Science'], 'Itemsets': {0: [3, 7, 6], 1: [4, 7, 6], 2: [5, 6], 3: [0, 1, 7, 6], 4: [0, 6, 7], 5: [2, 6]}, 'Graphe': {0: [], 1: [], 2: [], 3: [2, 1], 4: [2], 5: []}}\n"
     ]
    }
   ],
   "source": [
    "biparti2 = CreerAutPubCitees(graphe)\n",
    "print(biparti2)"
   ]
  },
  {
   "cell_type": "code",
   "execution_count": 12,
   "metadata": {},
   "outputs": [
    {
     "name": "stdout",
     "output_type": "stream",
     "text": [
      "{'Objets': ['PAPE_030', 'PAPE_020', 'PAPE_010', 'AUTH_Colin_ESPINAS', 'AUTH_Waris_RADJI', 'AUTH_Remi_DURET'], 'Items': ['A_Year_2018', 'A_Year_2020', 'A_Year_2015', 'P_Year_2020', 'P_Year_2018', 'P_Year_2015', 'CONC_Genie_Logiciel', 'CONC_Data_Science'], 'Itemsets': {0: [3, 7, 6], 1: [4, 7, 6], 2: [5, 6], 3: [0, 1, 7, 6], 4: [0, 6, 7], 5: [2, 6]}, 'Graphe': {0: [5, 3, 4], 1: [5], 2: [], 3: [], 4: [], 5: []}}\n"
     ]
    }
   ],
   "source": [
    "biparti3 = CreerPubAutCites(graphe)\n",
    "print(biparti3)"
   ]
  },
  {
   "cell_type": "code",
   "execution_count": null,
   "metadata": {},
   "outputs": [],
   "source": []
  }
 ],
 "metadata": {
  "kernelspec": {
   "display_name": "Python 3",
   "language": "python",
   "name": "python3"
  },
  "language_info": {
   "codemirror_mode": {
    "name": "ipython",
    "version": 3
   },
   "file_extension": ".py",
   "mimetype": "text/x-python",
   "name": "python",
   "nbconvert_exporter": "python",
   "pygments_lexer": "ipython3",
   "version": "3.7.6"
  }
 },
 "nbformat": 4,
 "nbformat_minor": 4
}
