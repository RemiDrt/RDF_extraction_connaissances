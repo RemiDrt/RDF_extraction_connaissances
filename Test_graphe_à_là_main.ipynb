{
 "cells": [
  {
   "cell_type": "code",
   "execution_count": 1,
   "metadata": {},
   "outputs": [
    {
     "name": "stdout",
     "output_type": "stream",
     "text": [
      "[51, 51]\n",
      "{'coucou': 5, 'c': 'coucou', 'd': ['c', 'coucou'], 'salu': 'chien'}\n",
      "51\n",
      "51\n",
      "chiennt\n"
     ]
    }
   ],
   "source": [
    "a = { 'coucou' : 5, 'c' : 'coucou', 'd' : ['c', 'coucou']}\n",
    "b = [5, 12]\n",
    "i = 0\n",
    "while i < len(b):\n",
    "    b[i] = 51\n",
    "    i += 1\n",
    "print(b)\n",
    "def fu(dico):\n",
    "    dico[\"salu\"] = \"chien\"\n",
    "def uf(liste):\n",
    "    liste.append(\"chiennt\")\n",
    "fu(a)\n",
    "uf(b)\n",
    "print(a)\n",
    "for i in b :\n",
    "    print(i)"
   ]
  },
  {
   "cell_type": "code",
   "execution_count": 2,
   "metadata": {},
   "outputs": [],
   "source": [
    "#!/usr/bin/python\n",
    "# -*- coding: utf-8 -*-\n",
    "from Extractors import *\n",
    "from rdflib import Graph, RDF, URIRef, Literal\n",
    "from rdflib.namespace import RDF, XSD, FOAF, Namespace"
   ]
  },
  {
   "cell_type": "code",
   "execution_count": 3,
   "metadata": {},
   "outputs": [],
   "source": [
    "graphe = Graph()\n",
    "ace = Namespace(\"http://www.semanticweb.org/acemap#\")\n",
    "auteur1 = URIRef(\"http://www.semanticweb.org/acemap#001\")\n",
    "auteur2 = URIRef(\"http://www.semanticweb.org/acemap#002\")\n",
    "auteur3 = URIRef(\"http://www.semanticweb.org/acemap#003\")\n",
    "paper1 = URIRef(\"http://www.semanticweb.org/acemap#010\")\n",
    "paper2 = URIRef(\"http://www.semanticweb.org/acemap#020\")\n",
    "paper3 = URIRef(\"http://www.semanticweb.org/acemap#030\")\n",
    "field1 = URIRef(\"http://www.semanticweb.org/acemap#100\")\n",
    "field2 = URIRef(\"http://www.semanticweb.org/acemap#200\")\n",
    "graphe.add((auteur1, RDF.type, ace.Author))\n",
    "graphe.add((auteur2, RDF.type, ace.Author))\n",
    "graphe.add((auteur3, RDF.type, ace.Author))\n",
    "graphe.add((paper1, RDF.type, ace.Paper))\n",
    "graphe.add((paper2, RDF.type, ace.Paper))\n",
    "graphe.add((paper3, RDF.type, ace.Paper))\n",
    "graphe.add((field1, RDF.type, ace.Field))\n",
    "graphe.add((field2, RDF.type, ace.Field))\n",
    "graphe.add((auteur1, ace.author_name, Literal(\"Remi DURET\", datatype=XSD.string)))\n",
    "graphe.add((auteur2, ace.author_name, Literal(\"Waris RADJI\", datatype=XSD.string)))\n",
    "graphe.add((auteur3, ace.author_name, Literal(\"Colin ESPINAS\", datatype=XSD.string)))\n",
    "graphe.add((field1, ace.field_name, Literal(\"Genie Logiciel\", datatype=XSD.string)))\n",
    "graphe.add((field2, ace.field_name, Literal(\"Data Science\", datatype=XSD.string)))\n",
    "graphe.add((paper1, ace.paper_title, Literal(\"Optisimation des applications de bureau\", datatype=XSD.string)))\n",
    "graphe.add((paper2, ace.paper_title, Literal(\"Les algorithmes de data mining\", datatype=XSD.string)))\n",
    "graphe.add((paper3, ace.paper_title, Literal(\"Faire un framework complet\", datatype=XSD.string)))\n",
    "graphe.add((auteur1, ace.author_is_in_field, field1))\n",
    "graphe.add((auteur2, ace.author_is_in_field, field1))\n",
    "graphe.add((auteur2, ace.author_is_in_field, field2))\n",
    "graphe.add((auteur3, ace.author_is_in_field, field1))\n",
    "graphe.add((auteur3, ace.author_is_in_field, field2))\n",
    "graphe.add((paper1, ace.paper_is_in_field, field1))\n",
    "graphe.add((paper2, ace.paper_is_in_field, field1))\n",
    "graphe.add((paper2, ace.paper_is_in_field, field2))\n",
    "graphe.add((paper3, ace.paper_is_in_field, field1))\n",
    "graphe.add((paper3, ace.paper_is_in_field, field2))\n",
    "graphe.add((paper1, ace.paper_is_written_by, auteur1))\n",
    "graphe.add((paper2, ace.paper_is_written_by, auteur2))\n",
    "graphe.add((paper2, ace.paper_is_written_by, auteur3))\n",
    "graphe.add((paper3, ace.paper_is_written_by, auteur3))\n",
    "graphe.add((paper2, ace.paper_cit_paper, paper1))\n",
    "graphe.add((paper3, ace.paper_cit_paper, paper1))\n",
    "graphe.add((paper3, ace.paper_cit_paper, paper2))\n",
    "graphe.add((paper1, ace.paper_publish_date, Literal(\"2015-03-26\", datatype=XSD.date)))\n",
    "graphe.add((paper2, ace.paper_publish_date, Literal(\"2018-05-12\", datatype=XSD.date)))\n",
    "graphe.add((paper3, ace.paper_publish_date, Literal(\"2020-02-07\", datatype=XSD.date)))"
   ]
  },
  {
   "cell_type": "code",
   "execution_count": 4,
   "metadata": {},
   "outputs": [
    {
     "name": "stdout",
     "output_type": "stream",
     "text": [
      "{'Objets': ['AUTH_Colin_ESPINAS', 'AUTH_Remi_DURET', 'AUTH_Waris_RADJI'], 'Items': ['Year_2018', 'Year_2020', 'Year_2015', 'CONC_Data_Science', 'CONC_Genie_Logiciel'], 'Itemsets': {0: [0, 1, 3, 4], 1: [2, 4], 2: [0, 3, 4]}, 'Graphe': {0: [2], 1: [], 2: [0]}}\n"
     ]
    }
   ],
   "source": [
    "dicoNRICoauteurs = CreerCoauteurs(graphe) \n",
    "print(dicoNRICoauteurs)"
   ]
  },
  {
   "cell_type": "code",
   "execution_count": null,
   "metadata": {},
   "outputs": [],
   "source": []
  },
  {
   "cell_type": "code",
   "execution_count": null,
   "metadata": {},
   "outputs": [],
   "source": []
  },
  {
   "cell_type": "code",
   "execution_count": null,
   "metadata": {},
   "outputs": [],
   "source": [
    "\n",
    "\n"
   ]
  }
 ],
 "metadata": {
  "kernelspec": {
   "display_name": "Python 3",
   "language": "python",
   "name": "python3"
  },
  "language_info": {
   "codemirror_mode": {
    "name": "ipython",
    "version": 3
   },
   "file_extension": ".py",
   "mimetype": "text/x-python",
   "name": "python",
   "nbconvert_exporter": "python",
   "pygments_lexer": "ipython3",
   "version": "3.7.6"
  }
 },
 "nbformat": 4,
 "nbformat_minor": 4
}
