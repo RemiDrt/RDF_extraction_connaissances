{
 "cells": [
  {
   "cell_type": "code",
   "execution_count": 3,
   "metadata": {},
   "outputs": [
    {
     "name": "stdout",
     "output_type": "stream",
     "text": [
      "10724\n",
      "13322\n",
      "24046\n",
      "24046\n",
      "True\n"
     ]
    }
   ],
   "source": [
    "#!/usr/bin/python\n",
    "# -*- coding: utf-8 -*-\n",
    "from Extractors import *\n",
    "#opening the file in read only\n",
    "NRI_File = open(\"../Graphes_attribués_NRI/acl_XP1_aut_pub.nri\", encoding=\"utf-8\")\n",
    "#creer une liste avec toutes les lignes\n",
    "texte1 = NRI_File.readlines()\n",
    "#fermer le fichier pour éviter les problèmes\n",
    "NRI_File.close()\n",
    "\n",
    "NRI_File = open(\"../Graphes_attribués_NRI/acl_XP3_pub_aut.nri\", encoding=\"utf-8\")\n",
    "#creer une liste avec toutes les lignes\n",
    "texte2 = NRI_File.readlines()\n",
    "#fermer le fichier pour éviter les problèmes\n",
    "NRI_File.close()\n",
    "\n",
    "NRI_File = open(\"../Graphes_attribués_NRI/acl_XP8_bi_aut_citpub.nri\", encoding=\"utf-8\")\n",
    "#creer une liste avec toutes les lignes\n",
    "texte3 = NRI_File.readlines()\n",
    "#fermer le fichier pour éviter les problèmes\n",
    "NRI_File.close()\n",
    "\n",
    "\n",
    "\n",
    "auteurs = Sommets(texte1)\n",
    "publications = Sommets(texte2)\n",
    "auteurUNIONpub = Sommets(texte3)\n",
    "\n",
    "nbauteurs = len(auteurs)\n",
    "nbpubli = len(publications)\n",
    "nbauteurUNIONpub = len(auteurUNIONpub)\n",
    "\n",
    "print(nbauteurs)\n",
    "print(nbpubli)\n",
    "print(nbauteurUNIONpub)\n",
    "print(nbauteurs + nbpubli)\n",
    "print(nbauteurUNIONpub == (nbauteurs + nbpubli))"
   ]
  },
  {
   "cell_type": "code",
   "execution_count": null,
   "metadata": {},
   "outputs": [],
   "source": []
  }
 ],
 "metadata": {
  "kernelspec": {
   "display_name": "Python 3",
   "language": "python",
   "name": "python3"
  },
  "language_info": {
   "codemirror_mode": {
    "name": "ipython",
    "version": 3
   },
   "file_extension": ".py",
   "mimetype": "text/x-python",
   "name": "python",
   "nbconvert_exporter": "python",
   "pygments_lexer": "ipython3",
   "version": "3.7.6"
  }
 },
 "nbformat": 4,
 "nbformat_minor": 4
}
