{
 "cells": [
  {
   "cell_type": "code",
   "execution_count": 1,
   "metadata": {},
   "outputs": [
    {
     "name": "stdout",
     "output_type": "stream",
     "text": [
      "Requirement already satisfied: rdflib in c:\\programdata\\anaconda3\\lib\\site-packages (5.0.0)\n",
      "Requirement already satisfied: isodate in c:\\programdata\\anaconda3\\lib\\site-packages (from rdflib) (0.6.0)\n",
      "Requirement already satisfied: six in c:\\programdata\\anaconda3\\lib\\site-packages (from rdflib) (1.14.0)\n",
      "Requirement already satisfied: pyparsing in c:\\programdata\\anaconda3\\lib\\site-packages (from rdflib) (2.4.6)\n"
     ]
    }
   ],
   "source": [
    "#!/usr/bin/python\n",
    "# -*- coding: utf-8 -*-\n",
    "!pip install rdflib"
   ]
  },
  {
   "cell_type": "code",
   "execution_count": 2,
   "metadata": {},
   "outputs": [],
   "source": [
    "from Extractors import *\n",
    "from rdflib import Graph, RDF, URIRef\n",
    "from rdflib.namespace import RDF, XSD, FOAF, Namespace"
   ]
  },
  {
   "cell_type": "code",
   "execution_count": 3,
   "metadata": {
    "scrolled": true
   },
   "outputs": [
    {
     "data": {
      "text/plain": [
       "<Graph identifier=N88e3f789bd2144e68ca351a3c20a1448 (<class 'rdflib.graph.Graph'>)>"
      ]
     },
     "execution_count": 3,
     "metadata": {},
     "output_type": "execute_result"
    }
   ],
   "source": [
    "graphe = Graph()\n",
    "graphe.parse(location=\"TTLFiles/field.ttl\", format=\"turtle\")"
   ]
  },
  {
   "cell_type": "code",
   "execution_count": 4,
   "metadata": {},
   "outputs": [
    {
     "data": {
      "text/plain": [
       "<Graph identifier=N88e3f789bd2144e68ca351a3c20a1448 (<class 'rdflib.graph.Graph'>)>"
      ]
     },
     "execution_count": 4,
     "metadata": {},
     "output_type": "execute_result"
    }
   ],
   "source": [
    "graphe.parse(location=\"TTLFiles/author.ttl\", format=\"turtle\")\n",
    "graphe.parse(location=\"TTLFiles/paper.ttl\", format=\"turtle\")\n",
    "graphe.parse(location=\"TTLFiles/acemap.ttl\", format=\"turtle\")\n",
    "graphe.parse(location=\"TTLFiles/affiliation.ttl\", format=\"turtle\")\n",
    "graphe.parse(location=\"TTLFiles/conference.ttl\", format=\"turtle\")\n",
    "graphe.parse(location=\"TTLFiles/institute.ttl\", format=\"turtle\")\n",
    "graphe.parse(location=\"TTLFiles/journal.ttl\", format=\"turtle\")"
   ]
  },
  {
   "cell_type": "code",
   "execution_count": 5,
   "metadata": {},
   "outputs": [],
   "source": [
    "ace = Namespace('http://www.semanticweb.org/acemap#')"
   ]
  },
  {
   "cell_type": "code",
   "execution_count": 6,
   "metadata": {},
   "outputs": [],
   "source": [
    "def AjouterPrefixe(prefixe, chaine) :\n",
    "    \"\"\"\n",
    "    Fonction qui ajouter un préfixe à une chaine de caractère et remplace les \" \" par des \"_\"\n",
    "    retourne une chaine de caractères avec le préfixe placé devant\n",
    "    exemple : AjouterPrefixe(\"AUTH\", \"Albert Einstein\") retourne \"AUTH_Albert_Einstein\"\n",
    "    \"\"\"\n",
    "    pref = prefixe + \"_\"\n",
    "    new_chaine = pref + chaine.replace(\" \", \"_\")\n",
    "    return new_chaine\n",
    "\n",
    "def YearFromDate(date) :\n",
    "    \"\"\"\n",
    "    Extrait l'année d'un date qui est au format xsd.date (YYYY-MM-DD)\n",
    "    Retourne la chaine de caractère correspondant à l'année de la date\n",
    "    \"\"\"\n",
    "    return date[:4]  \n",
    "\n",
    "\n",
    "def ExtraireAuteurs(graphe) :\n",
    "    \"\"\"\n",
    "    Extrait tous les id d'auteurs dans un tableau\n",
    "    prends un paramètre un graphe de rdflib\n",
    "    retourne un tableau avec tous les id des auteurs\n",
    "    \"\"\"\n",
    "    auteurs = []\n",
    "    authors = graphe.subjects(RDF.type, ace.Author)\n",
    "    for author in authors :\n",
    "        auteurs.append(author)\n",
    "    return auteurs\n",
    "\n",
    "\n",
    "def ExtrairePublication(graphe) :\n",
    "    \"\"\"\n",
    "    Extrait tous les id de publication dans un tableau\n",
    "    prends un paramètre un graphe de rdflib\n",
    "    retourne un tableau avec tous les id des publications\n",
    "    \"\"\"\n",
    "    publi = []\n",
    "    papers = graphe.subjects(RDF.type, ace.Paper)\n",
    "    for paper in papers :\n",
    "        publi.append(paper)\n",
    "    return publi\n",
    "\n",
    "\n",
    "def ExtraireNomAuteurs(graphe, auteurs) :\n",
    "    \"\"\"\n",
    "    Extrait les identifiants des auteurs et leurs noms présents dans acemap\n",
    "    prend en paramètre un objet graphe de la RDFlib\n",
    "    retourne une dictionnaire qui associe authorID à son nom\n",
    "    \"\"\"\n",
    "\n",
    "    IDToAuthors = dict()\n",
    "    for auteur in auteurs :\n",
    "        noms = graphe.objects(auteur, ace.author_name)\n",
    "        for nom in noms :\n",
    "            IDToAuthors[auteur] = nom\n",
    "    return IDToAuthors\n",
    "\n",
    "def ExtraireConceptes(graphe, auteurs):\n",
    "    \"\"\"\n",
    "    Extrait les domaines des auteurs\n",
    "    prend en paramètre un objet graphe de rdflib et un liste d'id d'autheurs sous forme d'URI\n",
    "    retourne un dictionnaire associant à un authorID tous les FieldID auxquelles il est rataché\n",
    "    { authorID : [fieldID, fieldID, fieldID], authorID : [fieldID, ...] ... }\n",
    "    \"\"\"\n",
    "    authIDToFieldID = dict()\n",
    "    for auteur in auteurs :\n",
    "        domaines = graphe.objects(auteur, ace.Field)\n",
    "        authIDToFieldID[auteur] = []\n",
    "        for domaine in domaines :\n",
    "            authIDToFieldID[auteur].append(domaine)\n",
    "    return authIDToFieldID\n",
    "\n",
    "def ExtrairesDate(graphe, auteurs):\n",
    "    \"\"\"\n",
    "    Extrait les dates de publication d'un auteur.\n",
    "    prend en paramètre un graphe rdf et une liste d'authorID sous forme d'URI\n",
    "    retourne un dictionnaire associant des authorID à des dates de publication \n",
    "    { authorID : [date, date, date], authorID : [date, ...] ... }\n",
    "    \"\"\"\n",
    "    authIDToYears = dict()\n",
    "    for auteur in auteurs :\n",
    "        authIDToYears[auteur] = []\n",
    "        #on va générer la liste de toutes les publication qui ont été ecrite par l'auteur en question\n",
    "        publications = graphe.subjects(ace.paper_is_written_by, auteur)\n",
    "        for publication in publications :\n",
    "            dates = graphe.objects(publication, ace.paper_publish_date)\n",
    "            for date in dates :\n",
    "                authIDToYears[auteur].append(date)\n",
    "    return authIDToYears\n",
    "\n",
    "def ExtraireAuteursPubli(graphe, publications) :\n",
    "    \"\"\"\n",
    "    Extrait les auteurs pour toutes les publication\n",
    "    prend en parametre un graphe rdf\n",
    "    retourne un dictionnaire qui associe les paperID a tous ses authorID\n",
    "    { paperID : [authorID, authoID, authorID], paperID : [authorID, ...] ... }\n",
    "    \"\"\"\n",
    "    paperIDToAuthorID = dict()\n",
    "    for publication in publications :\n",
    "        auteurs = graphe.objects(publication, ace.paper_is_written_by)\n",
    "        paperIDToAuthorID[publication] = []\n",
    "        for auteur in auteurs :\n",
    "            paperIDToAuthorID[publication].append(auteur)\n",
    "    return paperIDToAuthorID\n",
    "\n",
    "\n",
    "def Coauteurs(PaperToAuthor, auteurs, publications):\n",
    "    \"\"\"\n",
    "    Crée  un dictionnaire associant chaque auteur à ses coauteurs\n",
    "    prend en paramètre un dictionnaire associant les publication à leurs auteurs (cf ExtraireAuteursPubli), un tableau des auteurs et un tableau des publications\n",
    "    retourne un dictionnaire sous la forme { authID : [authID, authID ...] , authID : ......}\n",
    "    \"\"\"\n",
    "    coaut = dict()\n",
    "    for auteur in auteurs :\n",
    "        coaut[auteur] = []\n",
    "        for publication in publications :\n",
    "            if auteur in PaperToAuthor[publication] :\n",
    "                for aut in PaperToAuthor[publication] :\n",
    "                    if (aut != auteur) and (aut not in coaut[auteur]) :\n",
    "                        coaut[auteur].append(aut)\n",
    "    return coaut"
   ]
  },
  {
   "cell_type": "code",
   "execution_count": 12,
   "metadata": {},
   "outputs": [],
   "source": [
    "auteurs = ExtraireAuteurs(graphe)\n",
    "publications = ExtrairePublication(graphe)\n",
    "IDtoAuthor = ExtraireNomAuteurs(graphe, auteurs)\n",
    "authToField = ExtraireConceptes(graphe, auteurs)"
   ]
  },
  {
   "cell_type": "code",
   "execution_count": 13,
   "metadata": {},
   "outputs": [
    {
     "name": "stdout",
     "output_type": "stream",
     "text": [
      "http://www.semanticweb.org/acemap#791D05BF\n",
      "http://www.semanticweb.org/acemap#218FC062\n",
      "-----------\n",
      "http://www.semanticweb.org/acemap#7BFA9BE5\n",
      "http://www.semanticweb.org/acemap#7CE9EBAC\n"
     ]
    }
   ],
   "source": [
    "for auteur in auteurs:\n",
    "    print(auteur)\n",
    "print(\"-----------\")\n",
    "for publication in publications :\n",
    "    print(publication)\n",
    "print(\"-----------\")\n"
   ]
  },
  {
   "cell_type": "code",
   "execution_count": null,
   "metadata": {},
   "outputs": [],
   "source": [
    "autann = ExtraireAnnees(graphe, IDtoAuthor.keys())\n",
    "for key in autann.keys() :\n",
    "    for ann in autann[key] :\n",
    "        print(\"---------\")\n",
    "        print(key)\n",
    "        print(ann)\n",
    "        print(type(ann))\n",
    "        print(Annee(ann))\n",
    "        print(type(Annee(ann)))\n",
    "        \n",
    "publiAut = ExtraireAuteursPubli(graphe)\n",
    "for key in publiAut.keys() :\n",
    "    for aut in publiAut[key]:\n",
    "        print(\"-------\")\n",
    "        print(key)\n",
    "        print(aut)\n",
    "        print(type(aut))\n",
    "        print(IDtoAuthor[aut])\n",
    "    "
   ]
  },
  {
   "cell_type": "code",
   "execution_count": null,
   "metadata": {},
   "outputs": [],
   "source": []
  }
 ],
 "metadata": {
  "kernelspec": {
   "display_name": "Python 3",
   "language": "python",
   "name": "python3"
  },
  "language_info": {
   "codemirror_mode": {
    "name": "ipython",
    "version": 3
   },
   "file_extension": ".py",
   "mimetype": "text/x-python",
   "name": "python",
   "nbconvert_exporter": "python",
   "pygments_lexer": "ipython3",
   "version": "3.7.6"
  }
 },
 "nbformat": 4,
 "nbformat_minor": 4
}
