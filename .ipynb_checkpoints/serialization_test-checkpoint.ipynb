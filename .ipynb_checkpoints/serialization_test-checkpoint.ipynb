{
 "cells": [
  {
   "cell_type": "code",
   "execution_count": 12,
   "metadata": {},
   "outputs": [
    {
     "name": "stdout",
     "output_type": "stream",
     "text": [
      "{'a': 5, 'b': [0, 1, 2, 3, 4, 5, 6, 7, 8, 9], 'c': {'oui': 'non', True: False}}\n"
     ]
    }
   ],
   "source": [
    "import json\n",
    "dico = dict()\n",
    "liste = []\n",
    "dico3 = {\"oui\": \"non\", True: False}\n",
    "for i in range(0, 10) :\n",
    "    liste.append(i)\n",
    "dico[\"a\"] = 5\n",
    "dico[\"b\"] = liste\n",
    "dico[\"c\"] = dico3\n",
    "print(dico)\n",
    "with open('test.json', 'w', encoding='utf-8') as f :\n",
    "    json.dump(dico, f, indent=4)"
   ]
  },
  {
   "cell_type": "code",
   "execution_count": 13,
   "metadata": {},
   "outputs": [
    {
     "name": "stdout",
     "output_type": "stream",
     "text": [
      "{'a': 5, 'b': [0, 1, 2, 3, 4, 5, 6, 7, 8, 9], 'c': {'oui': 'non', 'true': False}}\n"
     ]
    }
   ],
   "source": [
    "dico2 = {}\n",
    "with open('test.json', encoding = 'utf-8') as f:\n",
    "    dico2 = json.load(f)\n",
    "print(dico2)\n",
    "    "
   ]
  },
  {
   "cell_type": "code",
   "execution_count": 2,
   "metadata": {},
   "outputs": [
    {
     "name": "stdout",
     "output_type": "stream",
     "text": [
      "dict_items([('a', [5, 6, 7]), ('b', [1, 2, 3])])\n"
     ]
    }
   ],
   "source": [
    "tab = [5, 6, 7]\n",
    "tab2 = [1, 2, 3]\n",
    "dico = dict()\n",
    "dico[\"a\"] = tab\n",
    "dico[\"b\"] = tab2\n",
    "print(dico.items())"
   ]
  },
  {
   "cell_type": "code",
   "execution_count": 11,
   "metadata": {},
   "outputs": [
    {
     "name": "stdout",
     "output_type": "stream",
     "text": [
      "not\n"
     ]
    }
   ],
   "source": [
    "import re\n",
    "#test de regex\n",
    "text = \"//tamehttpsreenstring\"\n",
    "x = re.search(\"^https?\", text)\n",
    "if x :\n",
    "    print('exist')\n",
    "else :\n",
    "    print(\"not\")"
   ]
  },
  {
   "cell_type": "code",
   "execution_count": null,
   "metadata": {},
   "outputs": [],
   "source": []
  }
 ],
 "metadata": {
  "kernelspec": {
   "display_name": "Python 3",
   "language": "python",
   "name": "python3"
  },
  "language_info": {
   "codemirror_mode": {
    "name": "ipython",
    "version": 3
   },
   "file_extension": ".py",
   "mimetype": "text/x-python",
   "name": "python",
   "nbconvert_exporter": "python",
   "pygments_lexer": "ipython3",
   "version": "3.7.6"
  }
 },
 "nbformat": 4,
 "nbformat_minor": 4
}
