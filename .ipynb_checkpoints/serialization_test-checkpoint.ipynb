{
 "cells": [
  {
   "cell_type": "code",
   "execution_count": 1,
   "metadata": {},
   "outputs": [
    {
     "name": "stdout",
     "output_type": "stream",
     "text": [
      "{'Objets': ['CONC_Genie_Logiciel', 'CONC_Data_Science'], 'Items': ['AUTH_Remi_DURET', 'AUTH_Colin_ESPINAS', 'AUTH_Waris_RADJI', 'Year_2015', 'Year_2018', 'Year_2020'], 'Itemsets': {0: [0, 1, 2, 3, 4, 5], 1: [2, 1, 5, 4]}, 'Graphe': {0: [1], 1: [0]}}\n",
      "{'Objets': ['CONC_Genie_Logiciel', 'CONC_Data_Science'], 'Items': ['AUTH_Remi_DURET', 'AUTH_Colin_ESPINAS', 'AUTH_Waris_RADJI', 'Year_2015', 'Year_2018', 'Year_2020'], 'Itemsets': {0: [0, 1, 2, 3, 4, 5], 1: [2, 1, 5, 4]}, 'Graphe': {0: [0, 1], 1: [0, 1]}}\n",
      "{'Objets': ['PAPE_020', 'PAPE_010', 'PAPE_030', 'AUTH_Waris_RADJI', 'AUTH_Remi_DURET', 'AUTH_Colin_ESPINAS'], 'Items': ['A_Year_2018', 'A_Year_2015', 'A_Year_2020', 'P_Year_2018', 'P_Year_2015', 'P_Year_2020', 'CONC_Genie_Logiciel', 'CONC_Data_Science'], 'Itemsets': {0: [3, 6, 7], 1: [4, 6], 2: [5, 7, 6], 3: [0, 7, 6], 4: [1, 6], 5: [0, 2, 7, 6]}, 'Graphe': {0: [3, 5], 1: [4], 2: [5], 3: [0], 4: [1], 5: [0, 2]}}\n",
      "{'Objets': ['PAPE_020', 'PAPE_010', 'PAPE_030', 'AUTH_Waris_RADJI', 'AUTH_Remi_DURET', 'AUTH_Colin_ESPINAS'], 'Items': ['A_Year_2018', 'A_Year_2015', 'A_Year_2020', 'P_Year_2018', 'P_Year_2015', 'P_Year_2020', 'CONC_Genie_Logiciel', 'CONC_Data_Science'], 'Itemsets': {0: [3, 6, 7], 1: [4, 6], 2: [5, 7, 6], 3: [0, 7, 6], 4: [1, 6], 5: [0, 2, 7, 6]}, 'Graphe': {0: [], 1: [], 2: [], 3: [1], 4: [], 5: [1, 0]}}\n",
      "{'Objets': ['PAPE_020', 'PAPE_010', 'PAPE_030', 'AUTH_Waris_RADJI', 'AUTH_Remi_DURET', 'AUTH_Colin_ESPINAS'], 'Items': ['A_Year_2018', 'A_Year_2015', 'A_Year_2020', 'P_Year_2018', 'P_Year_2015', 'P_Year_2020', 'CONC_Genie_Logiciel', 'CONC_Data_Science'], 'Itemsets': {0: [3, 6, 7], 1: [4, 6], 2: [5, 7, 6], 3: [0, 7, 6], 4: [1, 6], 5: [0, 2, 7, 6]}, 'Graphe': {0: [4], 1: [], 2: [3, 5, 4], 3: [], 4: [], 5: []}}\n"
     ]
    }
   ],
   "source": [
    "from Extractors import *\n",
    "print(CreerCoauteurs())\n",
    "print(CreerCitationsE())\n",
    "print(CreerPubAut())\n",
    "print(CreerAutPubCitees())\n",
    "print(CreerPubAutCites())"
   ]
  },
  {
   "cell_type": "code",
   "execution_count": null,
   "metadata": {},
   "outputs": [],
   "source": []
  },
  {
   "cell_type": "code",
   "execution_count": null,
   "metadata": {},
   "outputs": [],
   "source": []
  },
  {
   "cell_type": "code",
   "execution_count": null,
   "metadata": {},
   "outputs": [],
   "source": []
  },
  {
   "cell_type": "code",
   "execution_count": null,
   "metadata": {},
   "outputs": [],
   "source": []
  },
  {
   "cell_type": "code",
   "execution_count": null,
   "metadata": {},
   "outputs": [],
   "source": []
  }
 ],
 "metadata": {
  "kernelspec": {
   "display_name": "Python 3",
   "language": "python",
   "name": "python3"
  },
  "language_info": {
   "codemirror_mode": {
    "name": "ipython",
    "version": 3
   },
   "file_extension": ".py",
   "mimetype": "text/x-python",
   "name": "python",
   "nbconvert_exporter": "python",
   "pygments_lexer": "ipython3",
   "version": "3.7.6"
  }
 },
 "nbformat": 4,
 "nbformat_minor": 4
}
