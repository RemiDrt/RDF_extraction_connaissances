{
 "cells": [
  {
   "cell_type": "code",
   "execution_count": 1,
   "metadata": {},
   "outputs": [
    {
     "name": "stdout",
     "output_type": "stream",
     "text": [
      "Requirement already satisfied: rdflib in c:\\programdata\\anaconda3\\lib\\site-packages (5.0.0)\n",
      "Requirement already satisfied: pyparsing in c:\\programdata\\anaconda3\\lib\\site-packages (from rdflib) (2.4.6)\n",
      "Requirement already satisfied: six in c:\\programdata\\anaconda3\\lib\\site-packages (from rdflib) (1.14.0)\n",
      "Requirement already satisfied: isodate in c:\\programdata\\anaconda3\\lib\\site-packages (from rdflib) (0.6.0)\n"
     ]
    }
   ],
   "source": [
    "#!/usr/bin/python\n",
    "# -*- coding: utf-8 -*-\n",
    "!pip install rdflib"
   ]
  },
  {
   "cell_type": "code",
   "execution_count": 2,
   "metadata": {},
   "outputs": [],
   "source": [
    "from Extractors import *\n",
    "from rdflib import Graph, RDF, URIRef\n",
    "from rdflib.namespace import RDF, XSD, FOAF, Namespace"
   ]
  },
  {
   "cell_type": "code",
   "execution_count": 3,
   "metadata": {
    "scrolled": true
   },
   "outputs": [
    {
     "data": {
      "text/plain": [
       "<Graph identifier=N4f4fc1bbb6b341e5b3cb8182c9993ae1 (<class 'rdflib.graph.Graph'>)>"
      ]
     },
     "execution_count": 3,
     "metadata": {},
     "output_type": "execute_result"
    }
   ],
   "source": [
    "graphe = Graph()\n",
    "graphe.parse(location=\"TTLFiles/field.ttl\", format=\"turtle\")"
   ]
  },
  {
   "cell_type": "code",
   "execution_count": 4,
   "metadata": {},
   "outputs": [
    {
     "data": {
      "text/plain": [
       "<Graph identifier=N4f4fc1bbb6b341e5b3cb8182c9993ae1 (<class 'rdflib.graph.Graph'>)>"
      ]
     },
     "execution_count": 4,
     "metadata": {},
     "output_type": "execute_result"
    }
   ],
   "source": [
    "graphe.parse(location=\"TTLFiles/author.ttl\", format=\"turtle\")\n",
    "graphe.parse(location=\"TTLFiles/paper.ttl\", format=\"turtle\")\n",
    "graphe.parse(location=\"TTLFiles/acemap.ttl\", format=\"turtle\")\n",
    "graphe.parse(location=\"TTLFiles/affiliation.ttl\", format=\"turtle\")\n",
    "graphe.parse(location=\"TTLFiles/conference.ttl\", format=\"turtle\")\n",
    "graphe.parse(location=\"TTLFiles/institute.ttl\", format=\"turtle\")\n",
    "graphe.parse(location=\"TTLFiles/journal.ttl\", format=\"turtle\")"
   ]
  },
  {
   "cell_type": "code",
   "execution_count": 5,
   "metadata": {},
   "outputs": [
    {
     "data": {
      "text/plain": [
       "'\\nprint(graphe)\\nprint(\"\\n-----------------\\n\")\\ngraphe.bind(\"ace\", \"http://www.semanticweb.org/acemap#\")\\ngraphe.bind(\"ptdr\", \"http://biteurr#\")\\nfor index, (s, p, o) in enumerate(graphe):\\n    print((s, p, o))\\n    if index == 10 :\\n        break\\nfile = open(\"test4.ttl\", \"w\", encoding=\"utf-8\")\\nfile.write(graphe.serialize(format=\\'ttl\\').decode(\"utf-8\"))\\n#for field in graphe.subjects(RDF.type, \"http://www.semanticweb.org/acemap#Field\") :\\nace = Namespace(\\'http://www.semanticweb.org/acemap#\\')\\nsubjects = graphe.subjects(RDF.type, ace.Field)\\nfor subject in subjects :\\n    print(subject)\\n'"
      ]
     },
     "execution_count": 5,
     "metadata": {},
     "output_type": "execute_result"
    }
   ],
   "source": [
    "\"\"\"\n",
    "print(graphe)\n",
    "print(\"\\n-----------------\\n\")\n",
    "graphe.bind(\"ace\", \"http://www.semanticweb.org/acemap#\")\n",
    "graphe.bind(\"ptdr\", \"http://biteurr#\")\n",
    "for index, (s, p, o) in enumerate(graphe):\n",
    "    print((s, p, o))\n",
    "    if index == 10 :\n",
    "        break\n",
    "file = open(\"test4.ttl\", \"w\", encoding=\"utf-8\")\n",
    "file.write(graphe.serialize(format='ttl').decode(\"utf-8\"))\n",
    "#for field in graphe.subjects(RDF.type, \"http://www.semanticweb.org/acemap#Field\") :\n",
    "ace = Namespace('http://www.semanticweb.org/acemap#')\n",
    "subjects = graphe.subjects(RDF.type, ace.Field)\n",
    "for subject in subjects :\n",
    "    print(subject)\n",
    "\"\"\""
   ]
  },
  {
   "cell_type": "code",
   "execution_count": 6,
   "metadata": {},
   "outputs": [],
   "source": [
    "def AjouterPrefixe(prefixe, chaine) :\n",
    "    \"\"\"\n",
    "    Fonction qui ajouter un préfixe à une chaine de caractère et remplace les \" \" par des \"_\"\n",
    "    retourne une chaine de caractères avec le préfixe placé devant\n",
    "    exemple : AjouterPrefixe(\"AUTH\", \"Albert Einstein\") retourne \"AUTH_Albert_Einstein\"\n",
    "    \"\"\"\n",
    "    pref = prefixe + \"_\"\n",
    "    new_chaine = pref + chaine.replace(\" \", \"_\")\n",
    "    return new_chaine\n",
    "\n",
    "def ExtraireAuteurs(graphe) :\n",
    "    \"\"\"\n",
    "    Extrait les identifiants des auteurs et leurs noms présents dans acemap\n",
    "    prend en paramètre un objet graphe de la RDFlib\n",
    "    retourne une dictionnaire qui associe authorID à son nom\n",
    "    \"\"\"\n",
    "\n",
    "    IDToAuthors = dict()\n",
    "    auteurs = graphe.subjects(RDF.type, ace.Author)\n",
    "    for auteur in auteurs :\n",
    "        noms = graphe.objects(auteur, ace.author_name)\n",
    "        for nom in noms :\n",
    "            IDToAuthors[auteur] = nom\n",
    "    return IDToAuthors\n",
    "\n",
    "def ExtraireConceptes(graphe, auteurs):\n",
    "    \"\"\"\n",
    "    Extrait les demaines des auteurs\n",
    "    prend en paramètre un objet graphe de rdflib et un liste d'id d'autheurs sous forme d'URI\n",
    "    retourne un dictionnaire associant à un authorID tous les FieldID auxquelles il est rataché\n",
    "    { authorID : [fieldID, fieldID, fieldID], authorID : [fieldID, ...] ... }\n",
    "    \"\"\"\n",
    "    AuthIDToFieldID = dict()\n",
    "    for auteur in auteurs :\n",
    "        domaines = graphe.objects(auteur, ace.Field)\n",
    "        AuthIDToFieldID[auteur] = []\n",
    "        for domaine in domaines :\n",
    "            AuthIDToFieldID[auteur].append(domaine)\n",
    "    return AuthIDToFieldID"
   ]
  },
  {
   "cell_type": "code",
   "execution_count": 7,
   "metadata": {},
   "outputs": [
    {
     "name": "stdout",
     "output_type": "stream",
     "text": [
      "{rdflib.term.URIRef('http://www.semanticweb.org/acemap#218FC062'): rdflib.term.Literal('geoffrey e hinton', datatype=rdflib.term.URIRef('http://www.w3.org/2001/XMLSchema#string'))}\n",
      "------------\n",
      "{rdflib.term.URIRef('http://www.semanticweb.org/acemap#218FC062'): []}\n"
     ]
    }
   ],
   "source": [
    "IDtoAuthor = ExtraireAuteurs(graphe)\n",
    "authToField = ExtraireConceptes(graphe, IDtoAuthor.keys())\n",
    "print(IDtoAuthor)\n",
    "print(\"------------\")\n",
    "print(authToField)"
   ]
  },
  {
   "cell_type": "code",
   "execution_count": 8,
   "metadata": {},
   "outputs": [
    {
     "name": "stdout",
     "output_type": "stream",
     "text": [
      "http://www.semanticweb.org/acemap#218FC062\n",
      "geoffrey e hinton\n",
      "-----------\n",
      "http://www.semanticweb.org/acemap#218FC062\n",
      "[]\n"
     ]
    }
   ],
   "source": [
    "for key in IDtoAuthor.keys():\n",
    "    print(key)\n",
    "    print(IDtoAuthor[key])\n",
    "    \n",
    "print(\"-----------\")\n",
    "\n",
    "for key in authToField.keys() :\n",
    "    print(key)\n",
    "    print(authToField[key])"
   ]
  },
  {
   "cell_type": "code",
   "execution_count": 25,
   "metadata": {},
   "outputs": [
    {
     "name": "stdout",
     "output_type": "stream",
     "text": [
      "---------\n",
      "http://www.semanticweb.org/acemap#218FC062\n",
      "2014-01-01\n",
      "<class 'rdflib.term.Literal'>\n",
      "2014\n",
      "-------\n",
      "http://www.semanticweb.org/acemap#7CE9EBAC\n",
      "http://www.semanticweb.org/acemap#791D05BF\n",
      "<class 'rdflib.term.URIRef'>\n"
     ]
    },
    {
     "ename": "KeyError",
     "evalue": "rdflib.term.URIRef('http://www.semanticweb.org/acemap#791D05BF')",
     "output_type": "error",
     "traceback": [
      "\u001b[1;31m---------------------------------------------------------------------------\u001b[0m",
      "\u001b[1;31mKeyError\u001b[0m                                  Traceback (most recent call last)",
      "\u001b[1;32m<ipython-input-25-1b1b3e578816>\u001b[0m in \u001b[0;36m<module>\u001b[1;34m\u001b[0m\n\u001b[0;32m     50\u001b[0m         \u001b[0mprint\u001b[0m\u001b[1;33m(\u001b[0m\u001b[0maut\u001b[0m\u001b[1;33m)\u001b[0m\u001b[1;33m\u001b[0m\u001b[1;33m\u001b[0m\u001b[0m\n\u001b[0;32m     51\u001b[0m         \u001b[0mprint\u001b[0m\u001b[1;33m(\u001b[0m\u001b[0mtype\u001b[0m\u001b[1;33m(\u001b[0m\u001b[0maut\u001b[0m\u001b[1;33m)\u001b[0m\u001b[1;33m)\u001b[0m\u001b[1;33m\u001b[0m\u001b[1;33m\u001b[0m\u001b[0m\n\u001b[1;32m---> 52\u001b[1;33m         \u001b[0mprint\u001b[0m\u001b[1;33m(\u001b[0m\u001b[0mIDtoAuthor\u001b[0m\u001b[1;33m[\u001b[0m\u001b[0maut\u001b[0m\u001b[1;33m]\u001b[0m\u001b[1;33m)\u001b[0m\u001b[1;33m\u001b[0m\u001b[1;33m\u001b[0m\u001b[0m\n\u001b[0m\u001b[0;32m     53\u001b[0m \u001b[1;33m\u001b[0m\u001b[0m\n",
      "\u001b[1;31mKeyError\u001b[0m: rdflib.term.URIRef('http://www.semanticweb.org/acemap#791D05BF')"
     ]
    }
   ],
   "source": [
    "def ExtraireAnnees(graphe, auteurs):\n",
    "    \"\"\"\n",
    "    Extrait les années de publication d'un auteur.\n",
    "    prend en paramètre un graphe rdf et une liste d'authorID sous forme d'URI\n",
    "    retourne un dictionnaire associant des authorID à des années de publication \n",
    "    { authorID : [année, année, année], authorID : [année, ...] ... }\n",
    "    \"\"\"\n",
    "    authIDToYears = dict()\n",
    "    for auteur in auteurs :\n",
    "        authIDToYears[auteur] = []\n",
    "        #on va générer la liste de toutes les publication qui ont été ecrite par l'auteur en question\n",
    "        publications = graphe.subjects(ace.paper_is_written_by, auteur)\n",
    "        for publication in publications :\n",
    "            annees = graphe.objects(publication, ace.paper_publish_date)\n",
    "            for annee in annees :\n",
    "                authIDToYears[auteur].append(annee)\n",
    "    return authIDToYears\n",
    "\n",
    "def ExtraireAuteursPubli(graphe) :\n",
    "    \"\"\"\n",
    "    Extrait les auteurs pour toutes les publication\n",
    "    prend en parametre un graphe rdf\n",
    "    retourne un dictionnaire qui associe les paperID a tous ses authorID\n",
    "    { paperID : [authorID, authoID, authorID], paperID : [authorID, ...] ... }\n",
    "    \"\"\"\n",
    "    paperIDToAuthorID = dict()\n",
    "    publications = graphe.subjects(RDF.type, ace.Paper)\n",
    "    for publication in publications :\n",
    "        auteurs = graphe.objects(publication, ace.paper_is_written_by)\n",
    "        paperIDToAuthorID[publication] = []\n",
    "        for auteur in auteurs :\n",
    "            paperIDToAuthorID[publication].append(auteur)\n",
    "    return paperIDToAuthorID\n",
    "def AnneeFromDate(date) :\n",
    "    return date[:4]\n",
    "autann = ExtraireAnnees(graphe, IDtoAuthor.keys())\n",
    "for key in autann.keys() :\n",
    "    for ann in autann[key] :\n",
    "        print(\"---------\")\n",
    "        print(key)\n",
    "        print(ann)\n",
    "        print(type(ann))\n",
    "        print(Annee(ann))\n",
    "        print(type(Annee(ann)))\n",
    "        \n",
    "publiAut = ExtraireAuteursPubli(graphe)\n",
    "for key in publiAut.keys() :\n",
    "    for aut in publiAut[key]:\n",
    "        print(\"-------\")\n",
    "        print(key)\n",
    "        print(aut)\n",
    "        print(type(aut))\n",
    "        print(IDtoAuthor[aut])\n",
    "    "
   ]
  },
  {
   "cell_type": "code",
   "execution_count": null,
   "metadata": {},
   "outputs": [],
   "source": []
  }
 ],
 "metadata": {
  "kernelspec": {
   "display_name": "Python 3",
   "language": "python",
   "name": "python3"
  },
  "language_info": {
   "codemirror_mode": {
    "name": "ipython",
    "version": 3
   },
   "file_extension": ".py",
   "mimetype": "text/x-python",
   "name": "python",
   "nbconvert_exporter": "python",
   "pygments_lexer": "ipython3",
   "version": "3.7.6"
  }
 },
 "nbformat": 4,
 "nbformat_minor": 4
}
