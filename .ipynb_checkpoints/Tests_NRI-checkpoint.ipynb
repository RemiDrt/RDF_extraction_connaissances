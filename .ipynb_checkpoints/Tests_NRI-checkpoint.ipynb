{
 "cells": [
  {
   "cell_type": "code",
   "execution_count": 2,
   "metadata": {},
   "outputs": [
    {
     "name": "stdout",
     "output_type": "stream",
     "text": [
      "10724\n",
      "13322\n"
     ]
    },
    {
     "ename": "NameError",
     "evalue": "name 'nbauteursUNIONpub' is not defined",
     "output_type": "error",
     "traceback": [
      "\u001b[1;31m---------------------------------------------------------------------------\u001b[0m",
      "\u001b[1;31mNameError\u001b[0m                                 Traceback (most recent call last)",
      "\u001b[1;32m<ipython-input-2-b79e35853a32>\u001b[0m in \u001b[0;36m<module>\u001b[1;34m\u001b[0m\n\u001b[0;32m     33\u001b[0m \u001b[0mprint\u001b[0m\u001b[1;33m(\u001b[0m\u001b[0mnbauteurs\u001b[0m\u001b[1;33m)\u001b[0m\u001b[1;33m\u001b[0m\u001b[1;33m\u001b[0m\u001b[0m\n\u001b[0;32m     34\u001b[0m \u001b[0mprint\u001b[0m\u001b[1;33m(\u001b[0m\u001b[0mnbpubli\u001b[0m\u001b[1;33m)\u001b[0m\u001b[1;33m\u001b[0m\u001b[1;33m\u001b[0m\u001b[0m\n\u001b[1;32m---> 35\u001b[1;33m \u001b[0mprint\u001b[0m\u001b[1;33m(\u001b[0m\u001b[0mnbauteursUNIONpub\u001b[0m\u001b[1;33m)\u001b[0m\u001b[1;33m\u001b[0m\u001b[1;33m\u001b[0m\u001b[0m\n\u001b[0m\u001b[0;32m     36\u001b[0m \u001b[0mprint\u001b[0m\u001b[1;33m(\u001b[0m\u001b[0mnbauteurs\u001b[0m \u001b[1;33m+\u001b[0m \u001b[0mnbpubli\u001b[0m\u001b[1;33m)\u001b[0m\u001b[1;33m\u001b[0m\u001b[1;33m\u001b[0m\u001b[0m\n\u001b[0;32m     37\u001b[0m \u001b[0mprint\u001b[0m\u001b[1;33m(\u001b[0m\u001b[0mnbauteurUNIONpub\u001b[0m \u001b[1;33m==\u001b[0m \u001b[1;33m(\u001b[0m\u001b[0mnbauteurs\u001b[0m \u001b[1;33m+\u001b[0m \u001b[0mnbpubli\u001b[0m\u001b[1;33m)\u001b[0m\u001b[1;33m)\u001b[0m\u001b[1;33m\u001b[0m\u001b[1;33m\u001b[0m\u001b[0m\n",
      "\u001b[1;31mNameError\u001b[0m: name 'nbauteursUNIONpub' is not defined"
     ]
    }
   ],
   "source": [
    "#!/usr/bin/python\n",
    "# -*- coding: utf-8 -*-\n",
    "from Extractors import *\n",
    "#opening the file in read only\n",
    "NRI_File = open(\"../Graphes_attribués_NRI/acl_XP1_aut_pub.nri\", encoding=\"utf-8\")\n",
    "#creer une liste avec toutes les lignes\n",
    "texte1 = NRI_File.readlines()\n",
    "#fermer le fichier pour éviter les problèmes\n",
    "NRI_File.close()\n",
    "\n",
    "NRI_File = open(\"../Graphes_attribués_NRI/acl_XP3_pub_aut.nri\", encoding=\"utf-8\")\n",
    "#creer une liste avec toutes les lignes\n",
    "texte2 = NRI_File.readlines()\n",
    "#fermer le fichier pour éviter les problèmes\n",
    "NRI_File.close()\n",
    "\n",
    "NRI_File = open(\"../Graphes_attribués_NRI/acl_XP8_bi_aut_citpub.nri\", encoding=\"utf-8\")\n",
    "#creer une liste avec toutes les lignes\n",
    "texte3 = NRI_File.readlines()\n",
    "#fermer le fichier pour éviter les problèmes\n",
    "NRI_File.close()\n",
    "\n",
    "\n",
    "\n",
    "auteurs = Sommets(texte1)\n",
    "publications = Sommets(texte2)\n",
    "auteurUNIONpub = Sommets(texte3)\n",
    "\n",
    "nbauteurs = len(auteurs)\n",
    "nbpubli = len(publications)\n",
    "nbauteurUNIONpub = len(auteurUNIONpub)\n",
    "\n",
    "print(nbauteurs)\n",
    "print(nbpubli)\n",
    "print(nbauteurUNIONpub)\n",
    "print(nbauteurs + nbpubli)\n",
    "print(nbauteurUNIONpub == (nbauteurs + nbpubli))"
   ]
  },
  {
   "cell_type": "code",
   "execution_count": null,
   "metadata": {},
   "outputs": [],
   "source": []
  }
 ],
 "metadata": {
  "kernelspec": {
   "display_name": "Python 3",
   "language": "python",
   "name": "python3"
  },
  "language_info": {
   "codemirror_mode": {
    "name": "ipython",
    "version": 3
   },
   "file_extension": ".py",
   "mimetype": "text/x-python",
   "name": "python",
   "nbconvert_exporter": "python",
   "pygments_lexer": "ipython3",
   "version": "3.7.6"
  }
 },
 "nbformat": 4,
 "nbformat_minor": 4
}
