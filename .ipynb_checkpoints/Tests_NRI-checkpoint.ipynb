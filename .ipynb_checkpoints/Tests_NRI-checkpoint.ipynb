{
 "cells": [
  {
   "cell_type": "code",
   "execution_count": 2,
   "metadata": {},
   "outputs": [],
   "source": [
    "import re"
   ]
  },
  {
   "cell_type": "code",
   "execution_count": 5,
   "metadata": {},
   "outputs": [
    {
     "name": "stdout",
     "output_type": "stream",
     "text": [
      "{'L0': '2008', 'C0': '2008', 'D0': '2007', 'I0': '2008', 'J0': '2007', 'W0': '2003', 'J8': '1988', 'J9': '1996', 'P8': '1989', 'P9': '1998', 'P0': '2008', 'C8': '1988', 'C9': '1996', 'E8': '1985', 'E9': '1999', 'E0': '2006', 'N0': '2007', 'M9': '1998', 'A8': '1988', 'A9': '1997', 'A0': '2000', 'T8': '1987', 'H8': '1989', 'H9': '1994', 'H0': '2005', 'X9': '1998', 'W9': '1999'}\n"
     ]
    },
    {
     "data": {
      "text/plain": [
       "{'L0': '2008',\n",
       " 'C0': '2008',\n",
       " 'D0': '2007',\n",
       " 'I0': '2008',\n",
       " 'J0': '2007',\n",
       " 'W0': '2003',\n",
       " 'J8': '1988',\n",
       " 'J9': '1996',\n",
       " 'P8': '1989',\n",
       " 'P9': '1998',\n",
       " 'P0': '2008',\n",
       " 'C8': '1988',\n",
       " 'C9': '1996',\n",
       " 'E8': '1985',\n",
       " 'E9': '1999',\n",
       " 'E0': '2006',\n",
       " 'N0': '2007',\n",
       " 'M9': '1998',\n",
       " 'A8': '1988',\n",
       " 'A9': '1997',\n",
       " 'A0': '2000',\n",
       " 'T8': '1987',\n",
       " 'H8': '1989',\n",
       " 'H9': '1994',\n",
       " 'H0': '2005',\n",
       " 'X9': '1998',\n",
       " 'W9': '1999'}"
      ]
     },
     "execution_count": 5,
     "metadata": {},
     "output_type": "execute_result"
    }
   ],
   "source": [
    "def importTSVPaperToDate(fichier) :\n",
    "    paperToDate = dict()\n",
    "    with open(fichier, encoding=\"utf-8\") as f :\n",
    "        line = f.readline()#sauter la ligne des tites\n",
    "        line = f.readline()\n",
    "        while line :\n",
    "            tab = line.split(\"\\t\")\n",
    "            idraw = tab[0]\n",
    "            split = idraw.split(\"-\")\n",
    "            idclean = split[0] + split[1]\n",
    "            paperToDate[idclean] = tab[4]\n",
    "            line = f.readline()\n",
    "    print(paperToDate)\n",
    "    return paperToDate\n",
    "importTSVPaperToDate(\"../Data/Graphes_attribués_NRI/acl.database.annot.tsv\")\n"
   ]
  },
  {
   "cell_type": "code",
   "execution_count": null,
   "metadata": {},
   "outputs": [],
   "source": []
  }
 ],
 "metadata": {
  "kernelspec": {
   "display_name": "Python 3",
   "language": "python",
   "name": "python3"
  },
  "language_info": {
   "codemirror_mode": {
    "name": "ipython",
    "version": 3
   },
   "file_extension": ".py",
   "mimetype": "text/x-python",
   "name": "python",
   "nbconvert_exporter": "python",
   "pygments_lexer": "ipython3",
   "version": "3.7.6"
  }
 },
 "nbformat": 4,
 "nbformat_minor": 4
}
