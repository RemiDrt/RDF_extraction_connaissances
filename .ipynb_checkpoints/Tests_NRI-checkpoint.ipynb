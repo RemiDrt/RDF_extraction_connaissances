{
 "cells": [
  {
   "cell_type": "code",
   "execution_count": 22,
   "metadata": {},
   "outputs": [
    {
     "name": "stdout",
     "output_type": "stream",
     "text": [
      "True\n",
      "['PAPE', '030', 'BEUBEU', 'COUCOU']\n",
      "PAPE_030_BEUBEU_COUCOU\n",
      "['PAPE', '030', 'BEUBEU', 'COUCOU']\n",
      "PAPE 030 BEUBEU\n"
     ]
    }
   ],
   "source": [
    "a = \"PAPE_030_BEUBEU_COUCOU\"\n",
    "b = \"AUTH_Colin_ESPINAS\"\n",
    "c = \"P_Year_2018\"\n",
    "d = \"CONC_Genie_Logiciel\"\n",
    "e = \"Year_2018\"\n",
    "print(a.split(\"_\")[0] == 'PAPE')\n",
    "f = a.split(\"_\")\n",
    "print(f)\n",
    "print(a)\n",
    "g = \" \".join(f[:-1])\n",
    "print(f)\n",
    "print(g)\n",
    "print(type(g))"
   ]
  },
  {
   "cell_type": "code",
   "execution_count": null,
   "metadata": {},
   "outputs": [],
   "source": []
  },
  {
   "cell_type": "code",
   "execution_count": null,
   "metadata": {},
   "outputs": [],
   "source": []
  }
 ],
 "metadata": {
  "kernelspec": {
   "display_name": "Python 3",
   "language": "python",
   "name": "python3"
  },
  "language_info": {
   "codemirror_mode": {
    "name": "ipython",
    "version": 3
   },
   "file_extension": ".py",
   "mimetype": "text/x-python",
   "name": "python",
   "nbconvert_exporter": "python",
   "pygments_lexer": "ipython3",
   "version": "3.7.6"
  }
 },
 "nbformat": 4,
 "nbformat_minor": 4
}
