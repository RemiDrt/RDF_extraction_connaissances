{
 "cells": [
  {
   "cell_type": "code",
   "execution_count": 9,
   "metadata": {},
   "outputs": [],
   "source": [
    "import re"
   ]
  },
  {
   "cell_type": "code",
   "execution_count": 10,
   "metadata": {},
   "outputs": [
    {
     "name": "stdout",
     "output_type": "stream",
     "text": [
      "True\n",
      "['PAPE', '030', 'BEUBEU', 'COUCOU']\n",
      "PAPE_030_BEUBEU_COUCOU\n",
      "['PAPE', '030', 'BEUBEU', 'COUCOU']\n",
      "PAPE 030 BEUBEU\n",
      "<class 'str'>\n"
     ]
    }
   ],
   "source": [
    "a = \"PAPE_030_BEUBEU_COUCOU\"\n",
    "b = \"AUTH_Colin_ESPINAS\"\n",
    "c = \"P_Year_2018\"\n",
    "d = \"CONC_Genie_Logiciel\"\n",
    "e = \"Year_2018\"\n",
    "print(a.split(\"_\")[0] == 'PAPE')\n",
    "f = a.split(\"_\")\n",
    "print(f)\n",
    "print(a)\n",
    "g = \" \".join(f[:-1])\n",
    "print(f)\n",
    "print(g)\n",
    "print(type(g))"
   ]
  },
  {
   "cell_type": "code",
   "execution_count": 11,
   "metadata": {},
   "outputs": [
    {
     "name": "stdout",
     "output_type": "stream",
     "text": [
      "a\n",
      "b\n"
     ]
    }
   ],
   "source": [
    "a = 5\n",
    "b = \"5\"\n",
    "c = None\n",
    "d = dict()\n",
    "e = []\n",
    "if a :\n",
    "    print('a')\n",
    "if b :\n",
    "    print('b')\n",
    "if c :\n",
    "    print('c')\n",
    "if d : \n",
    "    print('d')\n",
    "if e :\n",
    "    print('e')"
   ]
  },
  {
   "cell_type": "code",
   "execution_count": 41,
   "metadata": {},
   "outputs": [
    {
     "name": "stdout",
     "output_type": "stream",
     "text": [
      "oui\n"
     ]
    }
   ],
   "source": [
    "x = re.search(\"^[A-Z0-9]+$\", \"00I8\")#on considère qu'un id est seulement constitué de caractère entre 0 et 9 et de lettre en majuscule\n",
    "if x :\n",
    "    print(\"oui\")\n",
    "else :\n",
    "    print(\"non\")"
   ]
  },
  {
   "cell_type": "code",
   "execution_count": 53,
   "metadata": {},
   "outputs": [
    {
     "name": "stdout",
     "output_type": "stream",
     "text": [
      "RémiNone Ties\n"
     ]
    }
   ],
   "source": [
    "def test(nom, msg = None, msg2 = None):\n",
    "    print(nom + str(msg) + str(msg2))\n",
    "    \n",
    "test(\"Rémi\", msg2 = \" Ties\")"
   ]
  },
  {
   "cell_type": "code",
   "execution_count": 6,
   "metadata": {},
   "outputs": [
    {
     "name": "stdout",
     "output_type": "stream",
     "text": [
      "['A00-0000']\n",
      "1\n",
      "['A00', '0000']\n"
     ]
    }
   ],
   "source": [
    "chaine = \"A00-0000\"\n",
    "tab = chaine.split(\"_\")\n",
    "print(tab)\n",
    "print(len(tab))\n",
    "tab = tab[0].split(\"-\")\n",
    "print(tab)\n",
    "print(tab[0] + tab[1])"
   ]
  },
  {
   "cell_type": "code",
   "execution_count": null,
   "metadata": {},
   "outputs": [],
   "source": []
  },
  {
   "cell_type": "code",
   "execution_count": null,
   "metadata": {},
   "outputs": [],
   "source": []
  }
 ],
 "metadata": {
  "kernelspec": {
   "display_name": "Python 3",
   "language": "python",
   "name": "python3"
  },
  "language_info": {
   "codemirror_mode": {
    "name": "ipython",
    "version": 3
   },
   "file_extension": ".py",
   "mimetype": "text/x-python",
   "name": "python",
   "nbconvert_exporter": "python",
   "pygments_lexer": "ipython3",
   "version": "3.7.6"
  }
 },
 "nbformat": 4,
 "nbformat_minor": 4
}
