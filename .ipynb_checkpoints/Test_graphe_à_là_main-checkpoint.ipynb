{
 "cells": [
  {
   "cell_type": "code",
   "execution_count": 3,
   "metadata": {},
   "outputs": [
    {
     "ename": "SyntaxError",
     "evalue": "unexpected EOF while parsing (<ipython-input-3-20cd84a38e77>, line 17)",
     "output_type": "error",
     "traceback": [
      "\u001b[1;36m  File \u001b[1;32m\"<ipython-input-3-20cd84a38e77>\"\u001b[1;36m, line \u001b[1;32m17\u001b[0m\n\u001b[1;33m    print((s,p,o)\u001b[0m\n\u001b[1;37m                 ^\u001b[0m\n\u001b[1;31mSyntaxError\u001b[0m\u001b[1;31m:\u001b[0m unexpected EOF while parsing\n"
     ]
    }
   ],
   "source": [
    "#!/usr/bin/python\n",
    "# -*- coding: utf-8 -*-\n",
    "from Extractors import *\n",
    "graphe = Graph()\n",
    "##bloc pour de selection des fichier a upload dans le graphe graphe.parse(file, format)\n",
    "graphe.parse(location = \"TTLFiles/acemap.ttl\", format = \"turtle\")\n",
    "graphe.parse(location = \"TTLFiles/affiliation.ttl\", format = \"turtle\")\n",
    "graphe.parse(location = \"TTLFiles/author.ttl\", format = \"turtle\")\n",
    "graphe.parse(location = \"TTLFiles/conference.ttl\", format = \"turtle\")\n",
    "graphe.parse(location = \"TTLFiles/field.ttl\", format = \"turtle\")\n",
    "graphe.parse(location = \"TTLFiles/institute.ttl\", format = \"turtle\")\n",
    "graphe.parse(location = \"TTLFiles/journal.ttl\", format = \"turtle\")\n",
    "graphe.parse(location = \"TTLFiles/paper.ttl\", format = \"turtle\")\n",
    "\n",
    "##\n",
    "for (s, p , o) in graphe : \n",
    "    print((s,p,o))"
   ]
  },
  {
   "cell_type": "code",
   "execution_count": null,
   "metadata": {},
   "outputs": [],
   "source": [
    "#!/usr/bin/python\n",
    "# -*- coding: utf-8 -*-\n",
    "from Extractors import *\n",
    "from rdflib import Graph, RDF, URIRef, Literal\n",
    "from rdflib.namespace import RDF, XSD, FOAF, Namespace"
   ]
  },
  {
   "cell_type": "code",
   "execution_count": null,
   "metadata": {},
   "outputs": [],
   "source": [
    "graphe = Graph()\n",
    "ace = Namespace(\"http://www.semanticweb.org/acemap#\")\n",
    "auteur1 = URIRef(\"http://www.semanticweb.org/acemap#001\")\n",
    "auteur2 = URIRef(\"http://www.semanticweb.org/acemap#002\")\n",
    "auteur3 = URIRef(\"http://www.semanticweb.org/acemap#003\")\n",
    "paper1 = URIRef(\"http://www.semanticweb.org/acemap#010\")\n",
    "paper2 = URIRef(\"http://www.semanticweb.org/acemap#020\")\n",
    "paper3 = URIRef(\"http://www.semanticweb.org/acemap#030\")\n",
    "field1 = URIRef(\"http://www.semanticweb.org/acemap#100\")\n",
    "field2 = URIRef(\"http://www.semanticweb.org/acemap#200\")\n",
    "graphe.add((auteur1, RDF.type, ace.Author))\n",
    "graphe.add((auteur2, RDF.type, ace.Author))\n",
    "graphe.add((auteur3, RDF.type, ace.Author))\n",
    "graphe.add((paper1, RDF.type, ace.Paper))\n",
    "graphe.add((paper2, RDF.type, ace.Paper))\n",
    "graphe.add((paper3, RDF.type, ace.Paper))\n",
    "graphe.add((field1, RDF.type, ace.Field))\n",
    "graphe.add((field2, RDF.type, ace.Field))\n",
    "graphe.add((auteur1, ace.author_name, Literal(\"Remi DURET\", datatype=XSD.string)))\n",
    "graphe.add((auteur2, ace.author_name, Literal(\"Waris RADJI\", datatype=XSD.string)))\n",
    "graphe.add((auteur3, ace.author_name, Literal(\"Colin ESPINAS\", datatype=XSD.string)))\n",
    "graphe.add((field1, ace.field_name, Literal(\"Genie Logiciel\", datatype=XSD.string)))\n",
    "graphe.add((field2, ace.field_name, Literal(\"Data Science\", datatype=XSD.string)))\n",
    "graphe.add((paper1, ace.paper_title, Literal(\"Optisimation des applications de bureau\", datatype=XSD.string)))\n",
    "graphe.add((paper2, ace.paper_title, Literal(\"Les algorithmes de data mining\", datatype=XSD.string)))\n",
    "graphe.add((paper3, ace.paper_title, Literal(\"Faire un framework complet\", datatype=XSD.string)))\n",
    "graphe.add((auteur1, ace.author_is_in_field, field1))\n",
    "graphe.add((auteur2, ace.author_is_in_field, field1))\n",
    "graphe.add((auteur2, ace.author_is_in_field, field2))\n",
    "graphe.add((auteur3, ace.author_is_in_field, field1))\n",
    "graphe.add((auteur3, ace.author_is_in_field, field2))\n",
    "graphe.add((paper1, ace.paper_is_in_field, field1))\n",
    "graphe.add((paper2, ace.paper_is_in_field, field1))\n",
    "graphe.add((paper2, ace.paper_is_in_field, field2))\n",
    "graphe.add((paper3, ace.paper_is_in_field, field1))\n",
    "graphe.add((paper3, ace.paper_is_in_field, field2))\n",
    "graphe.add((paper1, ace.paper_is_written_by, auteur1))\n",
    "graphe.add((paper2, ace.paper_is_written_by, auteur2))\n",
    "graphe.add((paper2, ace.paper_is_written_by, auteur3))\n",
    "graphe.add((paper3, ace.paper_is_written_by, auteur3))\n",
    "graphe.add((paper2, ace.paper_cit_paper, paper1))\n",
    "graphe.add((paper3, ace.paper_cit_paper, paper1))\n",
    "graphe.add((paper3, ace.paper_cit_paper, paper2))\n",
    "graphe.add((paper1, ace.paper_publish_date, Literal(\"2015-03-26\", datatype=XSD.date)))\n",
    "graphe.add((paper2, ace.paper_publish_date, Literal(\"2018-05-12\", datatype=XSD.date)))\n",
    "graphe.add((paper3, ace.paper_publish_date, Literal(\"2020-02-07\", datatype=XSD.date)))"
   ]
  },
  {
   "cell_type": "code",
   "execution_count": null,
   "metadata": {},
   "outputs": [],
   "source": [
    "dicoNRICoauteurs = CreerCoauteurs(graphe) \n",
    "print(dicoNRICoauteurs)"
   ]
  },
  {
   "cell_type": "code",
   "execution_count": null,
   "metadata": {},
   "outputs": [],
   "source": [
    "dicoNRICitations = CreerCitations(graphe)\n",
    "print(dicoNRICitations)"
   ]
  },
  {
   "cell_type": "code",
   "execution_count": null,
   "metadata": {},
   "outputs": [],
   "source": [
    "dicoNRICopublication = CreerCopublications(graphe)\n",
    "print(dicoNRICopublication)"
   ]
  },
  {
   "cell_type": "code",
   "execution_count": null,
   "metadata": {},
   "outputs": [],
   "source": [
    "dicoNRICitationsP = CreerCitationsP(graphe)\n",
    "print(dicoNRICitationsP)"
   ]
  },
  {
   "cell_type": "code",
   "execution_count": null,
   "metadata": {},
   "outputs": [],
   "source": [
    "dicoNRICooccurence = CreerCooccurence(graphe)\n",
    "print(dicoNRICooccurence)"
   ]
  },
  {
   "cell_type": "code",
   "execution_count": null,
   "metadata": {},
   "outputs": [],
   "source": [
    "dicoNRICitationE = CreerCitationsE(graphe)\n",
    "print(dicoNRICitationE)"
   ]
  },
  {
   "cell_type": "code",
   "execution_count": null,
   "metadata": {},
   "outputs": [],
   "source": [
    "biparti1 = CreerPubAut(graphe)\n",
    "print(biparti1)"
   ]
  },
  {
   "cell_type": "code",
   "execution_count": 2,
   "metadata": {},
   "outputs": [
    {
     "ename": "NameError",
     "evalue": "name 'CreerAutPubCitees' is not defined",
     "output_type": "error",
     "traceback": [
      "\u001b[1;31m---------------------------------------------------------------------------\u001b[0m",
      "\u001b[1;31mNameError\u001b[0m                                 Traceback (most recent call last)",
      "\u001b[1;32m<ipython-input-2-39930b1d20e9>\u001b[0m in \u001b[0;36m<module>\u001b[1;34m\u001b[0m\n\u001b[1;32m----> 1\u001b[1;33m \u001b[0mbiparti2\u001b[0m \u001b[1;33m=\u001b[0m \u001b[0mCreerAutPubCitees\u001b[0m\u001b[1;33m(\u001b[0m\u001b[0mgraphe\u001b[0m\u001b[1;33m)\u001b[0m\u001b[1;33m\u001b[0m\u001b[1;33m\u001b[0m\u001b[0m\n\u001b[0m\u001b[0;32m      2\u001b[0m \u001b[0mprint\u001b[0m\u001b[1;33m(\u001b[0m\u001b[0mbiparti2\u001b[0m\u001b[1;33m)\u001b[0m\u001b[1;33m\u001b[0m\u001b[1;33m\u001b[0m\u001b[0m\n",
      "\u001b[1;31mNameError\u001b[0m: name 'CreerAutPubCitees' is not defined"
     ]
    }
   ],
   "source": [
    "biparti2 = CreerAutPubCitees(graphe)\n",
    "print(biparti2)"
   ]
  },
  {
   "cell_type": "code",
   "execution_count": null,
   "metadata": {},
   "outputs": [],
   "source": [
    "biparti3 = CreerPubAutCites(graphe)\n",
    "print(biparti3)"
   ]
  },
  {
   "cell_type": "code",
   "execution_count": null,
   "metadata": {},
   "outputs": [],
   "source": []
  }
 ],
 "metadata": {
  "kernelspec": {
   "display_name": "Python 3",
   "language": "python",
   "name": "python3"
  },
  "language_info": {
   "codemirror_mode": {
    "name": "ipython",
    "version": 3
   },
   "file_extension": ".py",
   "mimetype": "text/x-python",
   "name": "python",
   "nbconvert_exporter": "python",
   "pygments_lexer": "ipython3",
   "version": "3.7.6"
  }
 },
 "nbformat": 4,
 "nbformat_minor": 4
}
